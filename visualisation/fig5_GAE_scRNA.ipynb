{
 "cells": [
  {
   "cell_type": "code",
   "execution_count": 1,
   "id": "9c3832c0",
   "metadata": {},
   "outputs": [],
   "source": [
    "import torch\n",
    "import torch.nn.functional as F\n",
    "from torch_geometric.nn import SAGEConv\n",
    "from torch_geometric.utils import negative_sampling\n",
    "import sys\n",
    "import os\n",
    "import torch\n",
    "import numpy as np\n",
    "import pandas as pd\n",
    "import random\n",
    "import copy\n",
    "from torch_geometric.utils.dropout import dropout_adj\n",
    "from sklearn.manifold import TSNE\n",
    "import matplotlib.pyplot as plt\n",
    "sys.path.append(os.path.abspath(\"C:\\\\Data\\\\Code\\\\BioML_manuscript\\\\data\"))\n",
    "from utils.boolODE_data_to_pyg_data import make_adj_from_df, to_pyg_data"
   ]
  },
  {
   "cell_type": "code",
   "execution_count": null,
   "id": "73c45ad9",
   "metadata": {},
   "outputs": [],
   "source": [
    "# set user parameters:\n",
    "#   datadir: directory in which data in the BoolODE format is available\n",
    "#   name: name of the directory in which the data is located (subdirectory of datadir)\n",
    "#   filenm: name under which the results should be saved for this network, note: output/\"+filenm+\"/\"+filenm+\"/\" should exist before running!\n",
    "#   num_features: amount of cells available for the data (2000 for mCAD example network)\n",
    "datadir = 'data/'\n",
    "name = 'hESC'\n",
    "filenm = 'hESC'\n",
    "df=pd.read_csv(datadir + name + '/ExpressionData.csv', index_col=0)\n",
    "\n",
    "adj_df = pd.read_csv(datadir + name + '/refNetwork.csv', index_col=0)\n",
    "\n",
    "mat = df.to_numpy()\n",
    "\n",
    "sz = df.to_numpy().shape\n",
    "edge_index, adj = make_adj_from_df(datadir,df, name)\n",
    "true_data = to_pyg_data(mat, sz[0], sz[1], edge_index=edge_index)\n",
    "\n",
    "ode_dim = true_data.x.shape[0]\n",
    "\n",
    "num_features = 758"
   ]
  },
  {
   "cell_type": "code",
   "execution_count": null,
   "id": "23785ed0",
   "metadata": {},
   "outputs": [],
   "source": [
    "import torch\n",
    "from torch_geometric.data import Data\n",
    "from torch_geometric.utils import degree\n",
    "import csv\n",
    "\n",
    "# method to obtain a subnetwork that includes only Transcription factors from the full ChIP-seq network\n",
    "def get_tf_network(data):\n",
    "\n",
    "    tf = []\n",
    "\n",
    "    with open('data\\\\hESC\\\\refNetwork.csv') as f:\n",
    "        reader = csv.reader(f,delimiter=\",\")\n",
    "        k = 0\n",
    "        next(reader)\n",
    "        for ln in reader:\n",
    "            k+=1\n",
    "            if not ln[0] in tf:\n",
    "                tf.append(ln[0])\n",
    "\n",
    "    tf_ind = []\n",
    "\n",
    "    with open('data\\\\hESC\\\\ExpressionData.csv') as f:\n",
    "        reader = csv.reader(f,delimiter=\",\")\n",
    "        next(reader)\n",
    "        k = 0\n",
    "        for ln in reader:\n",
    "            if ln[0] in tf:\n",
    "                tf_ind.append(k)\n",
    "            k += 1\n",
    "    \n",
    "    num_nodes = data.num_nodes\n",
    "    \n",
    "    node_mask = torch.zeros(num_nodes, dtype=torch.bool)\n",
    "    node_mask[tf_ind] = True\n",
    "\n",
    "    # map old indices to new indices\n",
    "    old_to_new = -torch.ones(num_nodes, dtype=torch.long)\n",
    "    old_to_new[tf_ind] = torch.arange(len(tf_ind))\n",
    "\n",
    "    # keep only edges between the top-N nodes\n",
    "    src, dst = data.edge_index\n",
    "    edge_mask = node_mask[src] & node_mask[dst]\n",
    "    new_edge_index = data.edge_index[:, edge_mask]\n",
    "    new_edge_index = old_to_new[new_edge_index]\n",
    "\n",
    "    # subsample node features and create new data object\n",
    "    new_data = Data(\n",
    "        x=data.x[tf_ind] if data.x is not None else None,\n",
    "        edge_index=new_edge_index\n",
    "    )\n",
    "\n",
    "    # copy other per-node fields\n",
    "    for key in data.keys:\n",
    "        if key in ['x', 'edge_index']:\n",
    "            continue\n",
    "        attr = data[key]\n",
    "        if torch.is_tensor(attr) and attr.size(0) == num_nodes:\n",
    "            new_data[key] = attr[tf_ind]\n",
    "        else:\n",
    "            new_data[key] = attr\n",
    "\n",
    "    return new_data\n",
    "\n",
    "# method to get the top N nodes from a Pytorch Geometric dataset, making a subgraph, and returning this subgraph in a new data object\n",
    "def top_n_nodes_by_degree(data, N):\n",
    "    num_nodes = data.num_nodes\n",
    "    # compute node degree\n",
    "    \n",
    "    deg = degree(data.edge_index[0], num_nodes=num_nodes)\n",
    "\n",
    "    # get indices of top N nodes\n",
    "    top_n_indices = deg.topk(N).indices\n",
    "    node_mask = torch.zeros(num_nodes, dtype=torch.bool)\n",
    "    node_mask[top_n_indices] = True\n",
    "\n",
    "    # map old indices to new indices\n",
    "    old_to_new = -torch.ones(num_nodes, dtype=torch.long)\n",
    "    old_to_new[top_n_indices] = torch.arange(N)\n",
    "\n",
    "    # keep only edges between the top-N nodes\n",
    "    src, dst = data.edge_index\n",
    "    edge_mask = node_mask[src] & node_mask[dst]\n",
    "    new_edge_index = data.edge_index[:, edge_mask]\n",
    "    new_edge_index = old_to_new[new_edge_index]\n",
    "\n",
    "    # subsample node features and create new data object\n",
    "    new_data = Data(\n",
    "        x=data.x[top_n_indices] if data.x is not None else None,\n",
    "        edge_index=new_edge_index\n",
    "    )\n",
    "\n",
    "    # copy other per-node fields\n",
    "    for key in data.keys:\n",
    "        if key in ['x', 'edge_index']:\n",
    "            continue\n",
    "        attr = data[key]\n",
    "        if torch.is_tensor(attr) and attr.size(0) == num_nodes:\n",
    "            new_data[key] = attr[top_n_indices]\n",
    "        else:\n",
    "            new_data[key] = attr\n",
    "\n",
    "    return new_data"
   ]
  },
  {
   "cell_type": "code",
   "execution_count": null,
   "id": "90422e90",
   "metadata": {},
   "outputs": [],
   "source": [
    "from torch_geometric.utils import train_test_split_edges\n",
    "from scipy.io import savemat\n",
    "\n",
    "# create the TF network, and subsequently create subnetworks of the TF network of different sizes (based on nodes with highest degree)\n",
    "tfdata = get_tf_network(true_data)\n",
    "\n",
    "data10 = top_n_nodes_by_degree(tfdata,10)\n",
    "data10 = train_test_split_edges(data10)\n",
    "\n",
    "data15 = top_n_nodes_by_degree(tfdata,15)\n",
    "data15 = train_test_split_edges(data15)\n",
    "\n",
    "data20 = top_n_nodes_by_degree(tfdata,20)\n",
    "data20 = train_test_split_edges(data20)\n",
    "\n",
    "data50 = top_n_nodes_by_degree(tfdata,50)\n",
    "data50 = train_test_split_edges(data50)\n",
    "\n",
    "data80 = top_n_nodes_by_degree(tfdata,80)\n",
    "data80 = train_test_split_edges(data80)\n",
    "\n",
    "data100 = top_n_nodes_by_degree(tfdata, 100)\n",
    "data100 = train_test_split_edges(data100)\n",
    "\n",
    "tfdata = train_test_split_edges(tfdata)"
   ]
  },
  {
   "cell_type": "code",
   "execution_count": 76,
   "id": "8f13ed8c",
   "metadata": {},
   "outputs": [],
   "source": [
    "# Define Graph Autoencoder (GAE) Model\n",
    "class GAE(torch.nn.Module):\n",
    "    def __init__(self, input_dim, hidden_dim=16):\n",
    "        super(GAE, self).__init__()\n",
    "        self.conv1 = SAGEConv(input_dim, hidden_dim)\n",
    "        self.conv2 = SAGEConv(hidden_dim, hidden_dim)\n",
    "        self.dropout = torch.nn.Dropout(0.3)\n",
    "\n",
    "        # one linear layer (only weights) for decoding\n",
    "        self.lin1 = torch.nn.Linear(hidden_dim, hidden_dim, bias=False)\n",
    "\n",
    "    # encode node features\n",
    "    def encode(self, data):\n",
    "        #x = self.dropout(data.x)\n",
    "        edge_index = dropout_adj(data.train_pos_edge_index, p = 0.2)[0]\n",
    "        #edge_index = data.edge_index\n",
    "        x = self.conv1(data.x, edge_index)\n",
    "        x = F.relu(x)\n",
    "        x = self.dropout(x)\n",
    "        return self.conv2(x, edge_index)\n",
    "\n",
    "    # decode specific edges\n",
    "    def decode(self, z, edge_index):\n",
    "        return (z[edge_index[0]] * self.lin1(z[edge_index[1]])).sum(dim=-1)  # Inner product\n",
    "    \n",
    "    # decode all edges for full adjacency matrix inference\n",
    "    def decode_all(self,z):\n",
    "        adj_matrix = torch.ones((z.shape[0], z.shape[0]))\n",
    "        full_edge_index = adj_matrix.nonzero().t().contiguous()\n",
    "\n",
    "        return (z[full_edge_index[0]] * self.lin1(z[full_edge_index[1]])).sum(dim=-1)"
   ]
  },
  {
   "cell_type": "code",
   "execution_count": null,
   "id": "2548c969",
   "metadata": {},
   "outputs": [],
   "source": [
    "# Train Model\n",
    "def train(model, data, optimizer, criterion):\n",
    "    model.train()\n",
    "    optimizer.zero_grad()\n",
    "    z = model.encode(data)\n",
    "    neg_edges = negative_sampling(data.train_pos_edge_index, data.x.shape[0], data.train_pos_edge_index.size(1))\n",
    "\n",
    "    edges = torch.cat([data.train_pos_edge_index, neg_edges], dim=1)\n",
    "    \n",
    "    # Labels: 1 for real edges, 0 for negative samples\n",
    "    labels = torch.cat([torch.ones(data.train_pos_edge_index.size(1)), torch.zeros(neg_edges.size(1))]).to(data.x.device)\n",
    "    preds = model.decode(z, edges)\n",
    "    \n",
    "    loss = criterion(preds, labels)\n",
    "    loss.backward()\n",
    "    optimizer.step()\n",
    "    return loss.item()\n",
    "\n",
    "def validate(model, data, criterion):\n",
    "    model.eval()\n",
    "    z = model.encode(data)\n",
    "    neg_edges = data.val_neg_edge_index #negative_sampling(data.train_pos_edge_index, data.x.shape[0], data.val_pos_edge_index.size(1))\n",
    "    \n",
    "    edges = torch.cat([data.val_pos_edge_index, data.val_neg_edge_index], dim=1)\n",
    "    labels = torch.cat([torch.ones(data.val_pos_edge_index.size(1)), torch.zeros(neg_edges.size(1))]).to(data.x.device)\n",
    "\n",
    "    preds = model.decode(z, edges)\n",
    "\n",
    "    val_loss = criterion(preds, labels)\n",
    "\n",
    "    return val_loss.item()\n"
   ]
  },
  {
   "cell_type": "code",
   "execution_count": null,
   "id": "3b6d2678",
   "metadata": {},
   "outputs": [],
   "source": [
    "from sklearn.metrics import roc_auc_score\n",
    "\n",
    "def auroc(model, data, criterion):\n",
    "    model.eval()\n",
    "    z = model.encode(data)\n",
    "    neg_edges = data.test_neg_edge_index\n",
    "\n",
    "    # use test indices to evaluate performance of the GAE\n",
    "    edges = torch.cat([data.test_pos_edge_index, data.test_neg_edge_index], dim=1)\n",
    "\n",
    "    labels = torch.cat([torch.ones(data.test_pos_edge_index.size(1)), torch.zeros(neg_edges.size(1))]).to(data.x.device)\n",
    "\n",
    "    preds = model.decode(z, edges)\n",
    "\n",
    "    preds = preds.sigmoid()\n",
    "\n",
    "    labels = labels.cpu()\n",
    "    preds = preds.cpu()\n",
    "    labels = labels.detach().numpy()\n",
    "    preds = preds.detach().numpy()\n",
    "\n",
    "    auroc = roc_auc_score(labels, preds)\n",
    "\n",
    "    return [auroc, labels, preds]"
   ]
  },
  {
   "cell_type": "code",
   "execution_count": null,
   "id": "adb55e24",
   "metadata": {},
   "outputs": [
    {
     "name": "stdout",
     "output_type": "stream",
     "text": [
      "training model 0...\n"
     ]
    },
    {
     "name": "stderr",
     "output_type": "stream",
     "text": [
      "C:\\Users\\JansenKlompLF\\AppData\\Local\\Packages\\PythonSoftwareFoundation.Python.3.10_qbz5n2kfra8p0\\LocalCache\\local-packages\\Python310\\site-packages\\torch_geometric\\deprecation.py:21: UserWarning: 'dropout_adj' is deprecated, use 'dropout_edge' instead\n",
      "  warnings.warn(out)\n"
     ]
    },
    {
     "name": "stdout",
     "output_type": "stream",
     "text": [
      "training model 1...\n"
     ]
    },
    {
     "name": "stderr",
     "output_type": "stream",
     "text": [
      "C:\\Users\\JansenKlompLF\\AppData\\Local\\Packages\\PythonSoftwareFoundation.Python.3.10_qbz5n2kfra8p0\\LocalCache\\local-packages\\Python310\\site-packages\\torch_geometric\\deprecation.py:21: UserWarning: 'dropout_adj' is deprecated, use 'dropout_edge' instead\n",
      "  warnings.warn(out)\n"
     ]
    },
    {
     "name": "stdout",
     "output_type": "stream",
     "text": [
      "training model 2...\n"
     ]
    },
    {
     "name": "stderr",
     "output_type": "stream",
     "text": [
      "C:\\Users\\JansenKlompLF\\AppData\\Local\\Packages\\PythonSoftwareFoundation.Python.3.10_qbz5n2kfra8p0\\LocalCache\\local-packages\\Python310\\site-packages\\torch_geometric\\deprecation.py:21: UserWarning: 'dropout_adj' is deprecated, use 'dropout_edge' instead\n",
      "  warnings.warn(out)\n"
     ]
    },
    {
     "name": "stdout",
     "output_type": "stream",
     "text": [
      "training model 3...\n"
     ]
    },
    {
     "name": "stderr",
     "output_type": "stream",
     "text": [
      "C:\\Users\\JansenKlompLF\\AppData\\Local\\Packages\\PythonSoftwareFoundation.Python.3.10_qbz5n2kfra8p0\\LocalCache\\local-packages\\Python310\\site-packages\\torch_geometric\\deprecation.py:21: UserWarning: 'dropout_adj' is deprecated, use 'dropout_edge' instead\n",
      "  warnings.warn(out)\n"
     ]
    },
    {
     "name": "stdout",
     "output_type": "stream",
     "text": [
      "training model 4...\n"
     ]
    },
    {
     "name": "stderr",
     "output_type": "stream",
     "text": [
      "C:\\Users\\JansenKlompLF\\AppData\\Local\\Packages\\PythonSoftwareFoundation.Python.3.10_qbz5n2kfra8p0\\LocalCache\\local-packages\\Python310\\site-packages\\torch_geometric\\deprecation.py:21: UserWarning: 'dropout_adj' is deprecated, use 'dropout_edge' instead\n",
      "  warnings.warn(out)\n"
     ]
    },
    {
     "name": "stdout",
     "output_type": "stream",
     "text": [
      "training model 5...\n"
     ]
    },
    {
     "name": "stderr",
     "output_type": "stream",
     "text": [
      "C:\\Users\\JansenKlompLF\\AppData\\Local\\Packages\\PythonSoftwareFoundation.Python.3.10_qbz5n2kfra8p0\\LocalCache\\local-packages\\Python310\\site-packages\\torch_geometric\\deprecation.py:21: UserWarning: 'dropout_adj' is deprecated, use 'dropout_edge' instead\n",
      "  warnings.warn(out)\n"
     ]
    },
    {
     "name": "stdout",
     "output_type": "stream",
     "text": [
      "training model 6...\n"
     ]
    },
    {
     "name": "stderr",
     "output_type": "stream",
     "text": [
      "C:\\Users\\JansenKlompLF\\AppData\\Local\\Packages\\PythonSoftwareFoundation.Python.3.10_qbz5n2kfra8p0\\LocalCache\\local-packages\\Python310\\site-packages\\torch_geometric\\deprecation.py:21: UserWarning: 'dropout_adj' is deprecated, use 'dropout_edge' instead\n",
      "  warnings.warn(out)\n"
     ]
    },
    {
     "name": "stdout",
     "output_type": "stream",
     "text": [
      "training model 7...\n"
     ]
    },
    {
     "name": "stderr",
     "output_type": "stream",
     "text": [
      "C:\\Users\\JansenKlompLF\\AppData\\Local\\Packages\\PythonSoftwareFoundation.Python.3.10_qbz5n2kfra8p0\\LocalCache\\local-packages\\Python310\\site-packages\\torch_geometric\\deprecation.py:21: UserWarning: 'dropout_adj' is deprecated, use 'dropout_edge' instead\n",
      "  warnings.warn(out)\n"
     ]
    },
    {
     "name": "stdout",
     "output_type": "stream",
     "text": [
      "training model 8...\n"
     ]
    },
    {
     "name": "stderr",
     "output_type": "stream",
     "text": [
      "C:\\Users\\JansenKlompLF\\AppData\\Local\\Packages\\PythonSoftwareFoundation.Python.3.10_qbz5n2kfra8p0\\LocalCache\\local-packages\\Python310\\site-packages\\torch_geometric\\deprecation.py:21: UserWarning: 'dropout_adj' is deprecated, use 'dropout_edge' instead\n",
      "  warnings.warn(out)\n"
     ]
    },
    {
     "name": "stdout",
     "output_type": "stream",
     "text": [
      "training model 9...\n"
     ]
    },
    {
     "name": "stderr",
     "output_type": "stream",
     "text": [
      "C:\\Users\\JansenKlompLF\\AppData\\Local\\Packages\\PythonSoftwareFoundation.Python.3.10_qbz5n2kfra8p0\\LocalCache\\local-packages\\Python310\\site-packages\\torch_geometric\\deprecation.py:21: UserWarning: 'dropout_adj' is deprecated, use 'dropout_edge' instead\n",
      "  warnings.warn(out)\n"
     ]
    },
    {
     "name": "stdout",
     "output_type": "stream",
     "text": [
      "training model 10...\n"
     ]
    },
    {
     "name": "stderr",
     "output_type": "stream",
     "text": [
      "C:\\Users\\JansenKlompLF\\AppData\\Local\\Packages\\PythonSoftwareFoundation.Python.3.10_qbz5n2kfra8p0\\LocalCache\\local-packages\\Python310\\site-packages\\torch_geometric\\deprecation.py:21: UserWarning: 'dropout_adj' is deprecated, use 'dropout_edge' instead\n",
      "  warnings.warn(out)\n"
     ]
    },
    {
     "name": "stdout",
     "output_type": "stream",
     "text": [
      "training model 11...\n"
     ]
    },
    {
     "name": "stderr",
     "output_type": "stream",
     "text": [
      "C:\\Users\\JansenKlompLF\\AppData\\Local\\Packages\\PythonSoftwareFoundation.Python.3.10_qbz5n2kfra8p0\\LocalCache\\local-packages\\Python310\\site-packages\\torch_geometric\\deprecation.py:21: UserWarning: 'dropout_adj' is deprecated, use 'dropout_edge' instead\n",
      "  warnings.warn(out)\n"
     ]
    },
    {
     "name": "stdout",
     "output_type": "stream",
     "text": [
      "training model 12...\n"
     ]
    },
    {
     "name": "stderr",
     "output_type": "stream",
     "text": [
      "C:\\Users\\JansenKlompLF\\AppData\\Local\\Packages\\PythonSoftwareFoundation.Python.3.10_qbz5n2kfra8p0\\LocalCache\\local-packages\\Python310\\site-packages\\torch_geometric\\deprecation.py:21: UserWarning: 'dropout_adj' is deprecated, use 'dropout_edge' instead\n",
      "  warnings.warn(out)\n"
     ]
    },
    {
     "name": "stdout",
     "output_type": "stream",
     "text": [
      "training model 13...\n"
     ]
    },
    {
     "name": "stderr",
     "output_type": "stream",
     "text": [
      "C:\\Users\\JansenKlompLF\\AppData\\Local\\Packages\\PythonSoftwareFoundation.Python.3.10_qbz5n2kfra8p0\\LocalCache\\local-packages\\Python310\\site-packages\\torch_geometric\\deprecation.py:21: UserWarning: 'dropout_adj' is deprecated, use 'dropout_edge' instead\n",
      "  warnings.warn(out)\n"
     ]
    },
    {
     "name": "stdout",
     "output_type": "stream",
     "text": [
      "training model 14...\n"
     ]
    },
    {
     "name": "stderr",
     "output_type": "stream",
     "text": [
      "C:\\Users\\JansenKlompLF\\AppData\\Local\\Packages\\PythonSoftwareFoundation.Python.3.10_qbz5n2kfra8p0\\LocalCache\\local-packages\\Python310\\site-packages\\torch_geometric\\deprecation.py:21: UserWarning: 'dropout_adj' is deprecated, use 'dropout_edge' instead\n",
      "  warnings.warn(out)\n"
     ]
    },
    {
     "name": "stdout",
     "output_type": "stream",
     "text": [
      "training model 15...\n"
     ]
    },
    {
     "name": "stderr",
     "output_type": "stream",
     "text": [
      "C:\\Users\\JansenKlompLF\\AppData\\Local\\Packages\\PythonSoftwareFoundation.Python.3.10_qbz5n2kfra8p0\\LocalCache\\local-packages\\Python310\\site-packages\\torch_geometric\\deprecation.py:21: UserWarning: 'dropout_adj' is deprecated, use 'dropout_edge' instead\n",
      "  warnings.warn(out)\n"
     ]
    },
    {
     "name": "stdout",
     "output_type": "stream",
     "text": [
      "training model 16...\n"
     ]
    },
    {
     "name": "stderr",
     "output_type": "stream",
     "text": [
      "C:\\Users\\JansenKlompLF\\AppData\\Local\\Packages\\PythonSoftwareFoundation.Python.3.10_qbz5n2kfra8p0\\LocalCache\\local-packages\\Python310\\site-packages\\torch_geometric\\deprecation.py:21: UserWarning: 'dropout_adj' is deprecated, use 'dropout_edge' instead\n",
      "  warnings.warn(out)\n"
     ]
    },
    {
     "name": "stdout",
     "output_type": "stream",
     "text": [
      "training model 17...\n"
     ]
    },
    {
     "name": "stderr",
     "output_type": "stream",
     "text": [
      "C:\\Users\\JansenKlompLF\\AppData\\Local\\Packages\\PythonSoftwareFoundation.Python.3.10_qbz5n2kfra8p0\\LocalCache\\local-packages\\Python310\\site-packages\\torch_geometric\\deprecation.py:21: UserWarning: 'dropout_adj' is deprecated, use 'dropout_edge' instead\n",
      "  warnings.warn(out)\n"
     ]
    },
    {
     "name": "stdout",
     "output_type": "stream",
     "text": [
      "training model 18...\n"
     ]
    },
    {
     "name": "stderr",
     "output_type": "stream",
     "text": [
      "C:\\Users\\JansenKlompLF\\AppData\\Local\\Packages\\PythonSoftwareFoundation.Python.3.10_qbz5n2kfra8p0\\LocalCache\\local-packages\\Python310\\site-packages\\torch_geometric\\deprecation.py:21: UserWarning: 'dropout_adj' is deprecated, use 'dropout_edge' instead\n",
      "  warnings.warn(out)\n"
     ]
    },
    {
     "name": "stdout",
     "output_type": "stream",
     "text": [
      "training model 19...\n"
     ]
    },
    {
     "name": "stderr",
     "output_type": "stream",
     "text": [
      "C:\\Users\\JansenKlompLF\\AppData\\Local\\Packages\\PythonSoftwareFoundation.Python.3.10_qbz5n2kfra8p0\\LocalCache\\local-packages\\Python310\\site-packages\\torch_geometric\\deprecation.py:21: UserWarning: 'dropout_adj' is deprecated, use 'dropout_edge' instead\n",
      "  warnings.warn(out)\n"
     ]
    }
   ],
   "source": [
    "from scipy.io import savemat\n",
    "\n",
    "num_features = 758\n",
    "device = torch.device('cuda' if torch.cuda.is_available() else 'cpu')\n",
    "\n",
    "# set data name + subnetwork here\n",
    "nm_cur = \"data10\"\n",
    "data_cur = data10\n",
    "\n",
    "data_cur.to(device)\n",
    "\n",
    "auroc_scores = []\n",
    "\n",
    "# repeat GAE training 20 times to get an estimate of the variance between training runs\n",
    "for k in range(0,20):\n",
    "\n",
    "    print(\"training model \" + str(k) + \"...\")\n",
    "    model = GAE(input_dim=num_features,hidden_dim=200)\n",
    "    model.to(device)\n",
    "\n",
    "    optimizer = torch.optim.Adam(model.parameters(), lr=0.0001)\n",
    "    criterion = torch.nn.BCEWithLogitsLoss()\n",
    "\n",
    "    loss_vec = []\n",
    "\n",
    "    for epoch in range(500):\n",
    "        loss = train(model, data_cur, optimizer, criterion)\n",
    "        \n",
    "        loss_vec.append(loss)\n",
    "        # print(loss)\n",
    "\n",
    "        val_loss = validate(model, data_cur, criterion)\n",
    "        #print(\"val loss:\")\n",
    "        #print(val_loss)\n",
    "\n",
    "    ans = auroc(model,data_cur,criterion)\n",
    "    auroc_scores.append(ans[0])\n",
    "\n",
    "savemat(nm_cur+\"_auroc_new.mat\",{\"auroc\":auroc_scores})"
   ]
  }
 ],
 "metadata": {
  "kernelspec": {
   "display_name": "Python 3",
   "language": "python",
   "name": "python3"
  },
  "language_info": {
   "codemirror_mode": {
    "name": "ipython",
    "version": 3
   },
   "file_extension": ".py",
   "mimetype": "text/x-python",
   "name": "python",
   "nbconvert_exporter": "python",
   "pygments_lexer": "ipython3",
   "version": "3.10.11"
  }
 },
 "nbformat": 4,
 "nbformat_minor": 5
}
