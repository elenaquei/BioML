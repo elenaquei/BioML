{
 "cells": [
  {
   "cell_type": "code",
   "execution_count": null,
   "metadata": {},
   "outputs": [
    {
     "name": "stdout",
     "output_type": "stream",
     "text": [
      "tensor([[9.4410e-04, 3.1226e-01, 1.9516e+00,  ..., 2.9092e-02, 8.1603e-04,\n",
      "         1.2758e-02],\n",
      "        [2.0899e-01, 2.3823e+00, 1.3800e+00,  ..., 2.1666e+00, 1.5281e+00,\n",
      "         1.5580e+00],\n",
      "        [5.9870e-03, 2.0327e-04, 2.9809e-01,  ..., 1.5013e+00, 2.0494e+00,\n",
      "         2.3211e+00],\n",
      "        ...,\n",
      "        [1.1597e+00, 2.5035e+00, 1.9663e+00,  ..., 6.7837e-02, 1.6334e-02,\n",
      "         8.2195e-03],\n",
      "        [1.1581e-01, 2.2684e+00, 1.6601e+00,  ..., 3.5083e-02, 2.1673e-02,\n",
      "         5.0208e-02],\n",
      "        [1.0000e-02, 2.8108e-02, 4.6445e-01,  ..., 1.9013e-02, 1.2492e-03,\n",
      "         1.0241e-03]])\n"
     ]
    }
   ],
   "source": [
    "import csv\n",
    "import torch\n",
    "\n",
    "nsims = 100\n",
    "\n",
    "time_points = 10\n",
    "\n",
    "ode_dim = 7\n",
    "\n",
    "data = torch.zeros(ode_dim,nsims*time_points)\n",
    "\n",
    "col = 0\n",
    "col_count = 0\n",
    "for k in range(0,nsims):\n",
    "    \n",
    "    with open('data/dyn_bifurcating/simulations/E'+str(k)+'.csv') as f:\n",
    "        reader = csv.reader(f, delimiter = \",\")\n",
    "        steps = range(0, 800, 800//time_points)\n",
    "        next(reader)       \n",
    "        i = 0\n",
    "        for ln in reader:\n",
    "            col = 0\n",
    "            for j in range(len(steps)):\n",
    "                val = float(ln[1+steps[j]])\n",
    "                data[i, col + col_count] = val\n",
    "                col += 1\n",
    "            i+=1\n",
    "    col_count += len(steps)\n",
    "\n",
    "print(data.shape)"
   ]
  }
 ],
 "metadata": {
  "kernelspec": {
   "display_name": "Python 3",
   "language": "python",
   "name": "python3"
  },
  "language_info": {
   "codemirror_mode": {
    "name": "ipython",
    "version": 3
   },
   "file_extension": ".py",
   "mimetype": "text/x-python",
   "name": "python",
   "nbconvert_exporter": "python",
   "pygments_lexer": "ipython3",
   "version": "3.10.4"
  }
 },
 "nbformat": 4,
 "nbformat_minor": 2
}
