{
 "cells": [
  {
   "cell_type": "code",
   "execution_count": 27,
   "metadata": {},
   "outputs": [
    {
     "name": "stdout",
     "output_type": "stream",
     "text": [
      "torch.Size([7, 3000])\n"
     ]
    }
   ],
   "source": [
    "import csv\n",
    "import torch\n",
    "\n",
    "nsims = 300\n",
    "\n",
    "time_points = 10\n",
    "\n",
    "ode_dim = 7\n",
    "\n",
    "data = torch.zeros(ode_dim,nsims*time_points)\n",
    "\n",
    "col = 0\n",
    "col_count = 0\n",
    "for k in range(0,nsims):\n",
    "    \n",
    "    with open('data/dyn_bifurcating/simulations/E'+str(k)+'.csv') as f:\n",
    "        reader = csv.reader(f, delimiter = \",\")\n",
    "        steps = range(0, 800, 800//time_points)\n",
    "        next(reader)       \n",
    "        i = 0\n",
    "        for ln in reader:\n",
    "            col = 0\n",
    "            for j in range(len(steps)):\n",
    "                val = float(ln[1+steps[j]])\n",
    "                data[i, col + col_count] = val\n",
    "                col += 1\n",
    "            i+=1\n",
    "    col_count += len(steps)\n",
    "\n",
    "print(data.shape)"
   ]
  }
 ],
 "metadata": {
  "kernelspec": {
   "display_name": "Python 3",
   "language": "python",
   "name": "python3"
  },
  "language_info": {
   "codemirror_mode": {
    "name": "ipython",
    "version": 3
   },
   "file_extension": ".py",
   "mimetype": "text/x-python",
   "name": "python",
   "nbconvert_exporter": "python",
   "pygments_lexer": "ipython3",
   "version": "3.10.4"
  }
 },
 "nbformat": 4,
 "nbformat_minor": 2
}
