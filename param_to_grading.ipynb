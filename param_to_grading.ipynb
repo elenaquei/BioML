{
 "cells": [
  {
   "cell_type": "code",
   "metadata": {
    "ExecuteTime": {
     "end_time": "2025-02-25T20:43:34.970089Z",
     "start_time": "2025-02-25T20:43:31.531040Z"
    }
   },
   "source": [
    "import numpy as np\n",
    "from models.nODE import nODE, make_nODE_from_parameters\n",
    "import scipy.io"
   ],
   "outputs": [],
   "execution_count": 1
  },
  {
   "cell_type": "code",
   "metadata": {
    "ExecuteTime": {
     "end_time": "2025-02-25T20:43:34.987863Z",
     "start_time": "2025-02-25T20:43:34.977636Z"
    }
   },
   "source": [
    "def distribute_parameters(param,adj):\n",
    "    W1 = np.zeros((adj.shape[0],adj.shape[1]))\n",
    "    k = 0\n",
    "    for i in range(0, adj.shape[0]):\n",
    "        for j in range(0, adj.shape[1]):\n",
    "            if adj[i,j] > 0:\n",
    "                W1[i,j] = param[k]\n",
    "                k += 1\n",
    "\n",
    "    gamma = np.zeros(adj.shape[0])\n",
    "    for i in range(0, adj.shape[0]):\n",
    "        gamma[i] = -param[k]\n",
    "        k += 1\n",
    "\n",
    "    b2 = np.zeros(adj.shape[0])\n",
    "    for i in range(0, adj.shape[0]):\n",
    "        b2[i] = param[k]\n",
    "        k += 1\n",
    "        \n",
    "    b1 = np.zeros(adj.shape[0])\n",
    "    for i in range(0, adj.shape[0]):\n",
    "        b1[i] = param[k]\n",
    "        k += 1\n",
    "\n",
    "    W2 = np.zeros((adj.shape[0],adj.shape[1]))\n",
    "    for i in range(0, adj.shape[0]):\n",
    "        for j in range(0, adj.shape[1]):\n",
    "            if i == j:\n",
    "                W2[i,j] = param[k]\n",
    "                k += 1\n",
    "    \n",
    "    return W1, gamma, b1, b2, W2\n"
   ],
   "outputs": [],
   "execution_count": 2
  },
  {
   "cell_type": "code",
   "metadata": {
    "ExecuteTime": {
     "end_time": "2025-02-25T20:43:35.390708Z",
     "start_time": "2025-02-25T20:43:35.379396Z"
    }
   },
   "source": [
    "param1 = np.loadtxt('data/dyn_bifurcating/fit_cluster0_2_3.txt')\n",
    "param2 = np.loadtxt('data/dyn_bifurcating/fit_cluster0.txt')\n",
    "\n",
    "adj1 = scipy.io.loadmat('data/dyn_bifurcating/net.mat')['Aref']\n",
    "adj1[2,3] = 0\n",
    "adj2 = scipy.io.loadmat('data/dyn_bifurcating/net.mat')['Aref']\n",
    "\n",
    "(W1_1, gamma_1, b1_1, b2_1, W2_1) = distribute_parameters(param1,adj1)\n",
    "(W1_2, gamma_2, b1_2, b2_2, W2_2) = distribute_parameters(param2,adj2)\n",
    "\n",
    "# make_nODE_from_parameters(Gamma, Win=None, bin=None, Wout=None, bout=None)\n",
    "nODE1 = make_nODE_from_parameters(gamma_1, W1_1, b1_1, W2_1, b2_1)\n",
    "nODE2 = make_nODE_from_parameters(gamma_2, W1_2, b1_2, W2_2, b2_2)"
   ],
   "outputs": [],
   "execution_count": 3
  },
  {
   "cell_type": "code",
   "metadata": {
    "ExecuteTime": {
     "end_time": "2025-02-25T20:44:21.568998Z",
     "start_time": "2025-02-25T20:43:35.486006Z"
    }
   },
   "source": [
    "from models.ranking import rank\n",
    "\n",
    "rank(nODE1,nODE2)"
   ],
   "outputs": [
    {
     "data": {
      "text/plain": [
       "[0.6984886635569303, 0.2959223985671997, 1.0]"
      ]
     },
     "execution_count": 4,
     "metadata": {},
     "output_type": "execute_result"
    }
   ],
   "execution_count": 4
  },
  {
   "cell_type": "code",
   "metadata": {
    "ExecuteTime": {
     "end_time": "2025-02-25T20:44:22.131718Z",
     "start_time": "2025-02-25T20:44:21.577530Z"
    }
   },
   "source": [
    "param1 = np.loadtxt('data/dyn_bifurcating/fit_cluster0_2_3_improved.txt')\n",
    "param2 = np.loadtxt('data/dyn_bifurcating/fit_cluster0.txt')\n",
    "\n",
    "adj1 = scipy.io.loadmat('gae_results/dyn_bifurcating_2_3.mat')['inferred_adj']\n",
    "adj1 = (adj1>0.5).astype(int)\n",
    "adj2 = scipy.io.loadmat('data/dyn_bifurcating/net.mat')['Aref']\n",
    "\n",
    "(W1_1, gamma_1, b1_1, b2_1, W2_1) = distribute_parameters(param1,adj1)\n",
    "(W1_2, gamma_2, b1_2, b2_2, W2_2) = distribute_parameters(param2,adj2)\n",
    "\n",
    "# make_nODE_from_parameters(Gamma, Win=None, bin=None, Wout=None, bout=None)\n",
    "nODE1 = make_nODE_from_parameters(gamma_1, W1_1, b1_1, W2_1, b2_1)\n",
    "nODE2 = make_nODE_from_parameters(gamma_2, W1_2, b1_2, W2_2, b2_2)"
   ],
   "outputs": [
    {
     "ename": "FileNotFoundError",
     "evalue": "[Errno 2] No such file or directory: 'gae_results/dyn_bifurcating_2_3.mat'",
     "output_type": "error",
     "traceback": [
      "\u001B[0;31m---------------------------------------------------------------------------\u001B[0m",
      "\u001B[0;31mFileNotFoundError\u001B[0m                         Traceback (most recent call last)",
      "File \u001B[0;32m~/.local/share/virtualenvs/BioML-Knp7JIuO/lib/python3.9/site-packages/scipy/io/matlab/_mio.py:39\u001B[0m, in \u001B[0;36m_open_file\u001B[0;34m(file_like, appendmat, mode)\u001B[0m\n\u001B[1;32m     38\u001B[0m \u001B[38;5;28;01mtry\u001B[39;00m:\n\u001B[0;32m---> 39\u001B[0m     \u001B[38;5;28;01mreturn\u001B[39;00m \u001B[38;5;28;43mopen\u001B[39;49m\u001B[43m(\u001B[49m\u001B[43mfile_like\u001B[49m\u001B[43m,\u001B[49m\u001B[43m \u001B[49m\u001B[43mmode\u001B[49m\u001B[43m)\u001B[49m, \u001B[38;5;28;01mTrue\u001B[39;00m\n\u001B[1;32m     40\u001B[0m \u001B[38;5;28;01mexcept\u001B[39;00m \u001B[38;5;167;01mOSError\u001B[39;00m \u001B[38;5;28;01mas\u001B[39;00m e:\n\u001B[1;32m     41\u001B[0m     \u001B[38;5;66;03m# Probably \"not found\"\u001B[39;00m\n",
      "\u001B[0;31mFileNotFoundError\u001B[0m: [Errno 2] No such file or directory: 'gae_results/dyn_bifurcating_2_3.mat'",
      "\nDuring handling of the above exception, another exception occurred:\n",
      "\u001B[0;31mFileNotFoundError\u001B[0m                         Traceback (most recent call last)",
      "Cell \u001B[0;32mIn[5], line 4\u001B[0m\n\u001B[1;32m      1\u001B[0m param1 \u001B[38;5;241m=\u001B[39m np\u001B[38;5;241m.\u001B[39mloadtxt(\u001B[38;5;124m'\u001B[39m\u001B[38;5;124mdata/dyn_bifurcating/fit_cluster0_2_3_improved.txt\u001B[39m\u001B[38;5;124m'\u001B[39m)\n\u001B[1;32m      2\u001B[0m param2 \u001B[38;5;241m=\u001B[39m np\u001B[38;5;241m.\u001B[39mloadtxt(\u001B[38;5;124m'\u001B[39m\u001B[38;5;124mdata/dyn_bifurcating/fit_cluster0.txt\u001B[39m\u001B[38;5;124m'\u001B[39m)\n\u001B[0;32m----> 4\u001B[0m adj1 \u001B[38;5;241m=\u001B[39m \u001B[43mscipy\u001B[49m\u001B[38;5;241;43m.\u001B[39;49m\u001B[43mio\u001B[49m\u001B[38;5;241;43m.\u001B[39;49m\u001B[43mloadmat\u001B[49m\u001B[43m(\u001B[49m\u001B[38;5;124;43m'\u001B[39;49m\u001B[38;5;124;43mgae_results/dyn_bifurcating_2_3.mat\u001B[39;49m\u001B[38;5;124;43m'\u001B[39;49m\u001B[43m)\u001B[49m[\u001B[38;5;124m'\u001B[39m\u001B[38;5;124minferred_adj\u001B[39m\u001B[38;5;124m'\u001B[39m]\n\u001B[1;32m      5\u001B[0m adj1 \u001B[38;5;241m=\u001B[39m (adj1\u001B[38;5;241m>\u001B[39m\u001B[38;5;241m0.5\u001B[39m)\u001B[38;5;241m.\u001B[39mastype(\u001B[38;5;28mint\u001B[39m)\n\u001B[1;32m      6\u001B[0m adj2 \u001B[38;5;241m=\u001B[39m scipy\u001B[38;5;241m.\u001B[39mio\u001B[38;5;241m.\u001B[39mloadmat(\u001B[38;5;124m'\u001B[39m\u001B[38;5;124mdata/dyn_bifurcating/net.mat\u001B[39m\u001B[38;5;124m'\u001B[39m)[\u001B[38;5;124m'\u001B[39m\u001B[38;5;124mAref\u001B[39m\u001B[38;5;124m'\u001B[39m]\n",
      "File \u001B[0;32m~/.local/share/virtualenvs/BioML-Knp7JIuO/lib/python3.9/site-packages/scipy/io/matlab/_mio.py:225\u001B[0m, in \u001B[0;36mloadmat\u001B[0;34m(file_name, mdict, appendmat, **kwargs)\u001B[0m\n\u001B[1;32m     88\u001B[0m \u001B[38;5;250m\u001B[39m\u001B[38;5;124;03m\"\"\"\u001B[39;00m\n\u001B[1;32m     89\u001B[0m \u001B[38;5;124;03mLoad MATLAB file.\u001B[39;00m\n\u001B[1;32m     90\u001B[0m \n\u001B[0;32m   (...)\u001B[0m\n\u001B[1;32m    222\u001B[0m \u001B[38;5;124;03m    3.14159265+3.14159265j])\u001B[39;00m\n\u001B[1;32m    223\u001B[0m \u001B[38;5;124;03m\"\"\"\u001B[39;00m\n\u001B[1;32m    224\u001B[0m variable_names \u001B[38;5;241m=\u001B[39m kwargs\u001B[38;5;241m.\u001B[39mpop(\u001B[38;5;124m'\u001B[39m\u001B[38;5;124mvariable_names\u001B[39m\u001B[38;5;124m'\u001B[39m, \u001B[38;5;28;01mNone\u001B[39;00m)\n\u001B[0;32m--> 225\u001B[0m \u001B[38;5;28;01mwith\u001B[39;00m _open_file_context(file_name, appendmat) \u001B[38;5;28;01mas\u001B[39;00m f:\n\u001B[1;32m    226\u001B[0m     MR, _ \u001B[38;5;241m=\u001B[39m mat_reader_factory(f, \u001B[38;5;241m*\u001B[39m\u001B[38;5;241m*\u001B[39mkwargs)\n\u001B[1;32m    227\u001B[0m     matfile_dict \u001B[38;5;241m=\u001B[39m MR\u001B[38;5;241m.\u001B[39mget_variables(variable_names)\n",
      "File \u001B[0;32m/usr/local/Cellar/python@3.9/3.9.20/Frameworks/Python.framework/Versions/3.9/lib/python3.9/contextlib.py:119\u001B[0m, in \u001B[0;36m_GeneratorContextManager.__enter__\u001B[0;34m(self)\u001B[0m\n\u001B[1;32m    117\u001B[0m \u001B[38;5;28;01mdel\u001B[39;00m \u001B[38;5;28mself\u001B[39m\u001B[38;5;241m.\u001B[39margs, \u001B[38;5;28mself\u001B[39m\u001B[38;5;241m.\u001B[39mkwds, \u001B[38;5;28mself\u001B[39m\u001B[38;5;241m.\u001B[39mfunc\n\u001B[1;32m    118\u001B[0m \u001B[38;5;28;01mtry\u001B[39;00m:\n\u001B[0;32m--> 119\u001B[0m     \u001B[38;5;28;01mreturn\u001B[39;00m \u001B[38;5;28;43mnext\u001B[39;49m\u001B[43m(\u001B[49m\u001B[38;5;28;43mself\u001B[39;49m\u001B[38;5;241;43m.\u001B[39;49m\u001B[43mgen\u001B[49m\u001B[43m)\u001B[49m\n\u001B[1;32m    120\u001B[0m \u001B[38;5;28;01mexcept\u001B[39;00m \u001B[38;5;167;01mStopIteration\u001B[39;00m:\n\u001B[1;32m    121\u001B[0m     \u001B[38;5;28;01mraise\u001B[39;00m \u001B[38;5;167;01mRuntimeError\u001B[39;00m(\u001B[38;5;124m\"\u001B[39m\u001B[38;5;124mgenerator didn\u001B[39m\u001B[38;5;124m'\u001B[39m\u001B[38;5;124mt yield\u001B[39m\u001B[38;5;124m\"\u001B[39m) \u001B[38;5;28;01mfrom\u001B[39;00m \u001B[38;5;28;01mNone\u001B[39;00m\n",
      "File \u001B[0;32m~/.local/share/virtualenvs/BioML-Knp7JIuO/lib/python3.9/site-packages/scipy/io/matlab/_mio.py:17\u001B[0m, in \u001B[0;36m_open_file_context\u001B[0;34m(file_like, appendmat, mode)\u001B[0m\n\u001B[1;32m     15\u001B[0m \u001B[38;5;129m@contextmanager\u001B[39m\n\u001B[1;32m     16\u001B[0m \u001B[38;5;28;01mdef\u001B[39;00m \u001B[38;5;21m_open_file_context\u001B[39m(file_like, appendmat, mode\u001B[38;5;241m=\u001B[39m\u001B[38;5;124m'\u001B[39m\u001B[38;5;124mrb\u001B[39m\u001B[38;5;124m'\u001B[39m):\n\u001B[0;32m---> 17\u001B[0m     f, opened \u001B[38;5;241m=\u001B[39m \u001B[43m_open_file\u001B[49m\u001B[43m(\u001B[49m\u001B[43mfile_like\u001B[49m\u001B[43m,\u001B[49m\u001B[43m \u001B[49m\u001B[43mappendmat\u001B[49m\u001B[43m,\u001B[49m\u001B[43m \u001B[49m\u001B[43mmode\u001B[49m\u001B[43m)\u001B[49m\n\u001B[1;32m     18\u001B[0m     \u001B[38;5;28;01mtry\u001B[39;00m:\n\u001B[1;32m     19\u001B[0m         \u001B[38;5;28;01myield\u001B[39;00m f\n",
      "File \u001B[0;32m~/.local/share/virtualenvs/BioML-Knp7JIuO/lib/python3.9/site-packages/scipy/io/matlab/_mio.py:45\u001B[0m, in \u001B[0;36m_open_file\u001B[0;34m(file_like, appendmat, mode)\u001B[0m\n\u001B[1;32m     43\u001B[0m     \u001B[38;5;28;01mif\u001B[39;00m appendmat \u001B[38;5;129;01mand\u001B[39;00m \u001B[38;5;129;01mnot\u001B[39;00m file_like\u001B[38;5;241m.\u001B[39mendswith(\u001B[38;5;124m'\u001B[39m\u001B[38;5;124m.mat\u001B[39m\u001B[38;5;124m'\u001B[39m):\n\u001B[1;32m     44\u001B[0m         file_like \u001B[38;5;241m+\u001B[39m\u001B[38;5;241m=\u001B[39m \u001B[38;5;124m'\u001B[39m\u001B[38;5;124m.mat\u001B[39m\u001B[38;5;124m'\u001B[39m\n\u001B[0;32m---> 45\u001B[0m     \u001B[38;5;28;01mreturn\u001B[39;00m \u001B[38;5;28;43mopen\u001B[39;49m\u001B[43m(\u001B[49m\u001B[43mfile_like\u001B[49m\u001B[43m,\u001B[49m\u001B[43m \u001B[49m\u001B[43mmode\u001B[49m\u001B[43m)\u001B[49m, \u001B[38;5;28;01mTrue\u001B[39;00m\n\u001B[1;32m     46\u001B[0m \u001B[38;5;28;01melse\u001B[39;00m:\n\u001B[1;32m     47\u001B[0m     \u001B[38;5;28;01mraise\u001B[39;00m \u001B[38;5;167;01mOSError\u001B[39;00m(\n\u001B[1;32m     48\u001B[0m         \u001B[38;5;124m'\u001B[39m\u001B[38;5;124mReader needs file name or open file-like object\u001B[39m\u001B[38;5;124m'\u001B[39m\n\u001B[1;32m     49\u001B[0m     ) \u001B[38;5;28;01mfrom\u001B[39;00m \u001B[38;5;21;01me\u001B[39;00m\n",
      "\u001B[0;31mFileNotFoundError\u001B[0m: [Errno 2] No such file or directory: 'gae_results/dyn_bifurcating_2_3.mat'"
     ]
    }
   ],
   "execution_count": 5
  },
  {
   "cell_type": "code",
   "metadata": {
    "ExecuteTime": {
     "end_time": "2025-02-25T20:45:22.203121Z",
     "start_time": "2025-02-25T20:44:37.953642Z"
    }
   },
   "source": [
    "from models.ranking import rank\n",
    "\n",
    "rank(nODE1,nODE2)"
   ],
   "outputs": [
    {
     "data": {
      "text/plain": [
       "[0.6984886635569303, 0.2959223985671997, 1.0]"
      ]
     },
     "execution_count": 6,
     "metadata": {},
     "output_type": "execute_result"
    }
   ],
   "execution_count": 6
  },
  {
   "metadata": {
    "ExecuteTime": {
     "end_time": "2025-02-25T20:44:22.135400Z",
     "start_time": "2025-02-25T19:51:28.728290Z"
    }
   },
   "cell_type": "code",
   "source": "param1",
   "outputs": [
    {
     "data": {
      "text/plain": [
       "array([ 3.41098353e+00,  1.57791702e+00, -1.57407168e-04, -3.40206216e+00,\n",
       "        3.57352460e+00, -1.54656453e+00,  2.26729037e+00, -3.47607141e+00,\n",
       "       -4.08427932e-04,  6.54934745e-04,  9.06295442e-05,  3.28388033e+00,\n",
       "        7.04879412e+00,  2.50184559e+00,  2.97630495e+00,  4.14093569e-01,\n",
       "        3.18180934e+00,  2.86568020e+00,  1.44189480e+00,  8.78918386e+00,\n",
       "        1.44935393e+00,  4.85638637e+00,  5.22585027e+00,  3.83348141e+00,\n",
       "        1.70204866e+00,  2.67552896e+00, -3.39376210e+00, -8.22702305e-01,\n",
       "       -1.37213608e+00, -4.95585940e-01, -1.41125669e+00,  2.77647003e+00,\n",
       "        1.40063024e+00,  8.74599630e+00,  2.14740600e+00,  1.85896758e+00,\n",
       "        5.18267122e+00,  3.54069104e+00,  1.59048491e+00])"
      ]
     },
     "execution_count": 6,
     "metadata": {},
     "output_type": "execute_result"
    }
   ],
   "execution_count": 6
  },
  {
   "metadata": {
    "ExecuteTime": {
     "end_time": "2025-02-25T20:44:22.135892Z",
     "start_time": "2025-02-25T20:31:05.925373Z"
    }
   },
   "cell_type": "code",
   "source": "nODE1.inside_weights.weight",
   "outputs": [
    {
     "data": {
      "text/plain": [
       "Parameter containing:\n",
       "tensor([[ 0.0000e+00,  3.4110e+00,  0.0000e+00,  0.0000e+00,  0.0000e+00,\n",
       "          0.0000e+00,  0.0000e+00],\n",
       "        [ 0.0000e+00,  0.0000e+00,  1.5779e+00,  0.0000e+00,  0.0000e+00,\n",
       "          0.0000e+00,  0.0000e+00],\n",
       "        [ 0.0000e+00,  0.0000e+00,  0.0000e+00,  0.0000e+00, -1.5741e-04,\n",
       "          0.0000e+00,  0.0000e+00],\n",
       "        [-3.4021e+00,  0.0000e+00,  0.0000e+00,  3.5735e+00, -1.5466e+00,\n",
       "          2.2673e+00, -3.4761e+00],\n",
       "        [-4.0843e-04,  0.0000e+00,  0.0000e+00,  6.5493e-04,  9.0630e-05,\n",
       "          0.0000e+00,  0.0000e+00],\n",
       "        [ 0.0000e+00,  0.0000e+00,  0.0000e+00,  0.0000e+00,  0.0000e+00,\n",
       "          0.0000e+00,  0.0000e+00],\n",
       "        [ 0.0000e+00,  0.0000e+00,  0.0000e+00,  0.0000e+00,  0.0000e+00,\n",
       "          0.0000e+00,  0.0000e+00]], requires_grad=True)"
      ]
     },
     "execution_count": 17,
     "metadata": {},
     "output_type": "execute_result"
    }
   ],
   "execution_count": 17
  },
  {
   "metadata": {
    "ExecuteTime": {
     "end_time": "2025-02-25T20:44:22.136338Z",
     "start_time": "2025-02-25T20:39:47.206441Z"
    }
   },
   "cell_type": "code",
   "source": "nODE1.adjacency_matrix()",
   "outputs": [
    {
     "data": {
      "text/plain": [
       "tensor([[ 0.,  1.,  0.,  0.,  0.,  0.,  0.],\n",
       "        [ 0.,  0.,  1.,  0.,  0.,  0.,  0.],\n",
       "        [ 0.,  0.,  0.,  0., -1.,  0.,  0.],\n",
       "        [-1.,  0.,  0.,  1., -1.,  1., -1.],\n",
       "        [-1.,  0.,  0.,  1.,  1.,  0.,  0.],\n",
       "        [ 0.,  0.,  0.,  0.,  0.,  0.,  0.],\n",
       "        [ 0.,  0.,  0.,  0.,  0.,  0.,  0.]])"
      ]
     },
     "execution_count": 30,
     "metadata": {},
     "output_type": "execute_result"
    }
   ],
   "execution_count": 30
  },
  {
   "metadata": {
    "ExecuteTime": {
     "end_time": "2025-02-25T20:44:22.136790Z",
     "start_time": "2025-02-25T20:39:48.741786Z"
    }
   },
   "cell_type": "code",
   "source": "np.abs(nODE2.adjacency_matrix()) - np.abs(nODE1.adjacency_matrix())",
   "outputs": [
    {
     "data": {
      "text/plain": [
       "tensor([[0., 0., 0., 0., 0., 0., 0.],\n",
       "        [0., 0., 0., 0., 0., 0., 0.],\n",
       "        [0., 0., 0., 1., 0., 0., 0.],\n",
       "        [0., 0., 0., 0., 0., 0., 0.],\n",
       "        [0., 0., 0., 0., 0., 0., 0.],\n",
       "        [0., 0., 0., 0., 0., 0., 0.],\n",
       "        [0., 0., 0., 0., 0., 0., 0.]])"
      ]
     },
     "execution_count": 31,
     "metadata": {},
     "output_type": "execute_result"
    }
   ],
   "execution_count": 31
  },
  {
   "metadata": {
    "ExecuteTime": {
     "end_time": "2025-02-25T20:44:22.137199Z",
     "start_time": "2025-02-25T20:40:33.101873Z"
    }
   },
   "cell_type": "code",
   "source": "np.linalg.norm(np.abs(nODE2.adjacency_matrix()) - np.abs(nODE1.adjacency_matrix()))/np.linalg.norm(np.abs(nODE1.adjacency_matrix()))",
   "outputs": [
    {
     "data": {
      "text/plain": [
       "0.30151135"
      ]
     },
     "execution_count": 33,
     "metadata": {},
     "output_type": "execute_result"
    }
   ],
   "execution_count": 33
  },
  {
   "metadata": {
    "ExecuteTime": {
     "end_time": "2025-02-25T20:44:22.137529Z",
     "start_time": "2025-02-25T20:40:43.659640Z"
    }
   },
   "cell_type": "code",
   "source": "np.linalg.norm(np.abs(nODE1.adjacency_matrix()))",
   "outputs": [
    {
     "data": {
      "text/plain": [
       "3.3166249"
      ]
     },
     "execution_count": 34,
     "metadata": {},
     "output_type": "execute_result"
    }
   ],
   "execution_count": 34
  },
  {
   "metadata": {
    "ExecuteTime": {
     "end_time": "2025-02-25T20:44:22.137963Z",
     "start_time": "2025-02-25T20:40:49.386725Z"
    }
   },
   "cell_type": "code",
   "source": "np.linalg.norm(np.abs(nODE2.adjacency_matrix()) - np.abs(nODE1.adjacency_matrix()))",
   "outputs": [
    {
     "data": {
      "text/plain": [
       "1.0"
      ]
     },
     "execution_count": 35,
     "metadata": {},
     "output_type": "execute_result"
    }
   ],
   "execution_count": 35
  },
  {
   "metadata": {
    "ExecuteTime": {
     "end_time": "2025-02-25T20:44:22.138368Z",
     "start_time": "2025-02-25T20:41:21.500104Z"
    }
   },
   "cell_type": "code",
   "source": [
    "true_network = np.abs(nODE1.adjacency_matrix())\n",
    "found_network = np.abs(nODE2.adjacency_matrix())\n",
    "ranking_network = 1 - np.linalg.norm(true_network - found_network) / np.max([1., np.linalg.norm(true_network)])"
   ],
   "outputs": [],
   "execution_count": 36
  },
  {
   "metadata": {
    "ExecuteTime": {
     "end_time": "2025-02-25T20:44:22.138666Z",
     "start_time": "2025-02-25T20:41:25.010207Z"
    }
   },
   "cell_type": "code",
   "source": "ranking_network",
   "outputs": [
    {
     "data": {
      "text/plain": [
       "0.6984886635569303"
      ]
     },
     "execution_count": 37,
     "metadata": {},
     "output_type": "execute_result"
    }
   ],
   "execution_count": 37
  },
  {
   "metadata": {},
   "cell_type": "code",
   "outputs": [],
   "execution_count": null,
   "source": ""
  }
 ],
 "metadata": {
  "kernelspec": {
   "display_name": "Python 3",
   "language": "python",
   "name": "python3"
  },
  "language_info": {
   "codemirror_mode": {
    "name": "ipython",
    "version": 3
   },
   "file_extension": ".py",
   "mimetype": "text/x-python",
   "name": "python",
   "nbconvert_exporter": "python",
   "pygments_lexer": "ipython3",
   "version": "3.10.4"
  }
 },
 "nbformat": 4,
 "nbformat_minor": 2
}
