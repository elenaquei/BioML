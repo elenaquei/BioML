{
 "cells": [
  {
   "cell_type": "code",
   "execution_count": 1,
   "metadata": {},
   "outputs": [
    {
     "name": "stderr",
     "output_type": "stream",
     "text": [
      "c:\\Users\\Lucas\\AppData\\Local\\Programs\\Python\\Python310\\lib\\site-packages\\tqdm\\auto.py:21: TqdmWarning: IProgress not found. Please update jupyter and ipywidgets. See https://ipywidgets.readthedocs.io/en/stable/user_install.html\n",
      "  from .autonotebook import tqdm as notebook_tqdm\n"
     ]
    }
   ],
   "source": [
    "import numpy as np\n",
    "from models.nODE import nODE, make_nODE_from_parameters\n",
    "import scipy.io"
   ]
  },
  {
   "cell_type": "code",
   "execution_count": 2,
   "metadata": {},
   "outputs": [],
   "source": [
    "def distribute_parameters(param,adj):\n",
    "    W1 = np.zeros((adj.shape[0],adj.shape[1]))\n",
    "    k = 0\n",
    "    for i in range(0, adj.shape[0]):\n",
    "        for j in range(0, adj.shape[1]):\n",
    "            if adj[i,j] > 0:\n",
    "                W1[i,j] = param[k]\n",
    "                k += 1\n",
    "\n",
    "    gamma = np.zeros(adj.shape[0])\n",
    "    for i in range(0, adj.shape[0]):\n",
    "        gamma[i] = -param[k]\n",
    "        k += 1\n",
    "\n",
    "    b2 = np.zeros(adj.shape[0])\n",
    "    for i in range(0, adj.shape[0]):\n",
    "        b2[i] = param[k]\n",
    "        k += 1\n",
    "        \n",
    "    b1 = np.zeros(adj.shape[0])\n",
    "    for i in range(0, adj.shape[0]):\n",
    "        b1[i] = param[k]\n",
    "        k += 1\n",
    "\n",
    "    W2 = np.zeros((adj.shape[0],adj.shape[1]))\n",
    "    for i in range(0, adj.shape[0]):\n",
    "        for j in range(0, adj.shape[1]):\n",
    "            if i == j:\n",
    "                W2[i,j] = param[k]\n",
    "                k += 1\n",
    "    \n",
    "    return W1, gamma, b1, b2, W2\n"
   ]
  },
  {
   "cell_type": "code",
   "execution_count": 3,
   "metadata": {},
   "outputs": [],
   "source": [
    "param1 = np.loadtxt('data/dyn_bifurcating/fit_cluster0_2_3.txt')\n",
    "param2 = np.loadtxt('data/dyn_bifurcating/fit_cluster0.txt')\n",
    "\n",
    "adj1 = scipy.io.loadmat('data/dyn_bifurcating/net.mat')['Aref']\n",
    "adj1[2,3] = 0\n",
    "adj2 = scipy.io.loadmat('data/dyn_bifurcating/net.mat')['Aref']\n",
    "\n",
    "(W1_1, gamma_1, b1_1, b2_1, W2_1) = distribute_parameters(param1,adj1)\n",
    "(W1_2, gamma_2, b1_2, b2_2, W2_2) = distribute_parameters(param2,adj2)\n",
    "\n",
    "# make_nODE_from_parameters(Gamma, Win=None, bin=None, Wout=None, bout=None)\n",
    "nODE1 = make_nODE_from_parameters(gamma_1, W1_1, b1_1, W2_1, b2_1)\n",
    "nODE2 = make_nODE_from_parameters(gamma_2, W1_2, b1_2, W2_2, b2_2)"
   ]
  },
  {
   "cell_type": "code",
   "execution_count": 5,
   "metadata": {},
   "outputs": [
    {
     "data": {
      "text/plain": [
       "[0.0, 0.23995524644851685, 1.0]"
      ]
     },
     "execution_count": 5,
     "metadata": {},
     "output_type": "execute_result"
    }
   ],
   "source": [
    "from ranking import rank\n",
    "\n",
    "rank(nODE1,nODE2)"
   ]
  },
  {
   "cell_type": "code",
   "execution_count": 12,
   "metadata": {},
   "outputs": [],
   "source": [
    "param1 = np.loadtxt('data/dyn_bifurcating/fit_cluster0_2_3_improved.txt')\n",
    "param2 = np.loadtxt('data/dyn_bifurcating/fit_cluster0.txt')\n",
    "\n",
    "adj1 = scipy.io.loadmat('gae_results/dyn_bifurcating_2_3.mat')['inferred_adj']\n",
    "adj1 = (adj1>0.5).astype(int)\n",
    "adj2 = scipy.io.loadmat('data/dyn_bifurcating/net.mat')['Aref']\n",
    "\n",
    "(W1_1, gamma_1, b1_1, b2_1, W2_1) = distribute_parameters(param1,adj1)\n",
    "(W1_2, gamma_2, b1_2, b2_2, W2_2) = distribute_parameters(param2,adj2)\n",
    "\n",
    "# make_nODE_from_parameters(Gamma, Win=None, bin=None, Wout=None, bout=None)\n",
    "nODE1 = make_nODE_from_parameters(gamma_1, W1_1, b1_1, W2_1, b2_1)\n",
    "nODE2 = make_nODE_from_parameters(gamma_2, W1_2, b1_2, W2_2, b2_2)"
   ]
  },
  {
   "cell_type": "code",
   "execution_count": 13,
   "metadata": {},
   "outputs": [
    {
     "data": {
      "text/plain": [
       "[0.0, 0.1382322907447815, 0.09090909090909094]"
      ]
     },
     "execution_count": 13,
     "metadata": {},
     "output_type": "execute_result"
    }
   ],
   "source": [
    "from ranking import rank\n",
    "\n",
    "rank(nODE1,nODE2)"
   ]
  }
 ],
 "metadata": {
  "kernelspec": {
   "display_name": "Python 3",
   "language": "python",
   "name": "python3"
  },
  "language_info": {
   "codemirror_mode": {
    "name": "ipython",
    "version": 3
   },
   "file_extension": ".py",
   "mimetype": "text/x-python",
   "name": "python",
   "nbconvert_exporter": "python",
   "pygments_lexer": "ipython3",
   "version": "3.10.4"
  }
 },
 "nbformat": 4,
 "nbformat_minor": 2
}
