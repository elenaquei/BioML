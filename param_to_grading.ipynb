{
 "cells": [
  {
   "cell_type": "code",
   "metadata": {
    "ExecuteTime": {
     "end_time": "2025-02-26T12:54:43.864585Z",
     "start_time": "2025-02-26T12:54:39.175469Z"
    }
   },
   "source": [
    "import numpy as np\n",
    "from models.nODE import nODE, make_nODE_from_parameters\n",
    "import scipy.io"
   ],
   "outputs": [],
   "execution_count": 1
  },
  {
   "cell_type": "code",
   "metadata": {
    "ExecuteTime": {
     "end_time": "2025-02-26T12:54:43.912941Z",
     "start_time": "2025-02-26T12:54:43.902098Z"
    }
   },
   "source": [
    "def distribute_parameters(param,adj):\n",
    "    W1 = np.zeros((adj.shape[0],adj.shape[1]))\n",
    "    k = 0\n",
    "    for i in range(0, adj.shape[0]):\n",
    "        for j in range(0, adj.shape[1]):\n",
    "            if adj[i,j] > 0:\n",
    "                W1[i,j] = param[k]\n",
    "                k += 1\n",
    "\n",
    "    gamma = np.zeros(adj.shape[0])\n",
    "    for i in range(0, adj.shape[0]):\n",
    "        gamma[i] = -param[k]\n",
    "        k += 1\n",
    "\n",
    "    b2 = np.zeros(adj.shape[0])\n",
    "    for i in range(0, adj.shape[0]):\n",
    "        b2[i] = param[k]\n",
    "        k += 1\n",
    "        \n",
    "    b1 = np.zeros(adj.shape[0])\n",
    "    for i in range(0, adj.shape[0]):\n",
    "        b1[i] = param[k]\n",
    "        k += 1\n",
    "\n",
    "    W2 = np.zeros((adj.shape[0],adj.shape[1]))\n",
    "    for i in range(0, adj.shape[0]):\n",
    "        for j in range(0, adj.shape[1]):\n",
    "            if i == j:\n",
    "                W2[i,j] = param[k]\n",
    "                k += 1\n",
    "    \n",
    "    return W1, gamma, b1, b2, W2\n"
   ],
   "outputs": [],
   "execution_count": 2
  },
  {
   "cell_type": "code",
   "metadata": {
    "ExecuteTime": {
     "end_time": "2025-02-26T13:33:03.700851Z",
     "start_time": "2025-02-26T13:33:03.690562Z"
    }
   },
   "source": [
    "param1_true = np.loadtxt('data/dyn_bifurcating/fit_cluster0.txt')\n",
    "param2_imputed = np.loadtxt('data/dyn_bifurcating/fit_cluster0_2_3.txt')\n",
    "\n",
    "adj_imputed = scipy.io.loadmat('data/dyn_bifurcating/net.mat')['Aref']\n",
    "adj_imputed[2,3] = 0\n",
    "adj_true = scipy.io.loadmat('data/dyn_bifurcating/net.mat')['Aref']\n",
    "\n",
    "(W1_1, gamma_1, b1_1, b2_1, W2_1) = distribute_parameters(param1_true,adj_true)\n",
    "(W1_2, gamma_2, b1_2, b2_2, W2_2) = distribute_parameters(param2_imputed,adj_imputed)\n",
    "\n",
    "# make_nODE_from_parameters(Gamma, Win=None, bin=None, Wout=None, bout=None)\n",
    "nODE1_true = make_nODE_from_parameters(gamma_1, W1_1, b1_1, W2_1, b2_1)\n",
    "nODE2_imputed = make_nODE_from_parameters(gamma_2, W1_2, b1_2, W2_2, b2_2)"
   ],
   "outputs": [],
   "execution_count": 50
  },
  {
   "cell_type": "code",
   "metadata": {
    "ExecuteTime": {
     "end_time": "2025-02-26T13:36:35.020960Z",
     "start_time": "2025-02-26T13:36:35.013773Z"
    }
   },
   "source": [
    "from models.ranking import rank\n",
    "\n",
    "# rank(nODE1,nODE2_base)\n",
    "\n",
    "def network_grade(adjtrue, adjfit):\n",
    "    missing_edge = [1 for i in range(adjtrue.shape[0]) for j in range(adjtrue.shape[1]) if adjtrue[i,j]!=0 and adjfit[i,j]== 0]\n",
    "    # FOR DEBUGGING\n",
    "    # print(missing_edge)\n",
    "    number_missing_edges = len(missing_edge)\n",
    "    ranking_network = 1 - number_missing_edges / np.max([1., np.count_nonzero(adjtrue)])\n",
    "    ranking_network = max(ranking_network, 0)\n",
    "    return ranking_network\n",
    "\n",
    "# print(adj_true, adj_imputed)\n",
    "print(network_grade(adj_true, adj_imputed))"
   ],
   "outputs": [
    {
     "name": "stdout",
     "output_type": "stream",
     "text": [
      "0.9166666666666666\n"
     ]
    }
   ],
   "execution_count": 60
  },
  {
   "cell_type": "code",
   "metadata": {
    "ExecuteTime": {
     "end_time": "2025-02-26T13:34:10.320557Z",
     "start_time": "2025-02-26T13:34:10.309183Z"
    }
   },
   "source": [
    "param2_gae = np.loadtxt('data/dyn_bifurcating/fit_cluster0_2_3_improved.txt')\n",
    "param1_true = np.loadtxt('data/dyn_bifurcating/fit_cluster0.txt')\n",
    "\n",
    "adj2_gae = scipy.io.loadmat('gae_results/dyn_bifurcating_2_3.mat')['inferred_adj']\n",
    "adj2_gae = (adj2_gae>0.5).astype(int)\n",
    "adj1_true = scipy.io.loadmat('data/dyn_bifurcating/net.mat')['Aref']\n",
    "\n",
    "(W1_1, gamma_1, b1_1, b2_1, W2_1) = distribute_parameters(param1_true,adj1_true)\n",
    "(W1_2, gamma_2, b1_2, b2_2, W2_2) = distribute_parameters(param2_gae,adj2_gae)\n",
    "\n",
    "# make_nODE_from_parameters(Gamma, Win=None, bin=None, Wout=None, bout=None)\n",
    "nODE1 = make_nODE_from_parameters(gamma_1, W1_1, b1_1, W2_1, b2_1)\n",
    "nODE2_gae = make_nODE_from_parameters(gamma_2, W1_2, b1_2, W2_2, b2_2)"
   ],
   "outputs": [],
   "execution_count": 53
  },
  {
   "cell_type": "code",
   "metadata": {
    "ExecuteTime": {
     "end_time": "2025-02-26T13:34:53.717247Z",
     "start_time": "2025-02-26T13:34:53.710699Z"
    }
   },
   "source": [
    "from models.ranking import rank\n",
    "\n",
    "# rank(nODE1,nODE2_gae)\n",
    "print(network_grade(adj1_true, adj2_gae))\n",
    "print(adj1_true, '\\n',adj2_gae)"
   ],
   "outputs": [
    {
     "name": "stdout",
     "output_type": "stream",
     "text": [
      "0.08333333333333337\n",
      "[[0 1 0 0 0 0 0]\n",
      " [0 0 1 0 0 0 0]\n",
      " [0 0 0 1 1 0 0]\n",
      " [1 0 0 1 1 1 1]\n",
      " [1 0 0 1 1 0 0]\n",
      " [0 0 0 0 0 0 0]\n",
      " [0 0 0 0 0 0 0]] \n",
      " [[0 0 1 0 0 0 0]\n",
      " [0 1 0 0 1 0 0]\n",
      " [0 0 1 1 0 0 0]\n",
      " [0 0 0 0 0 0 0]\n",
      " [0 1 0 0 0 1 1]\n",
      " [0 0 0 0 1 0 0]\n",
      " [0 0 0 0 0 0 0]]\n"
     ]
    }
   ],
   "execution_count": 57
  },
  {
   "metadata": {
    "ExecuteTime": {
     "end_time": "2025-02-26T13:36:23.709774Z",
     "start_time": "2025-02-26T13:36:23.706885Z"
    }
   },
   "cell_type": "code",
   "source": "",
   "outputs": [],
   "execution_count": null
  },
  {
   "metadata": {
    "ExecuteTime": {
     "end_time": "2025-02-26T13:36:25.997557Z",
     "start_time": "2025-02-26T13:36:25.994297Z"
    }
   },
   "cell_type": "code",
   "source": "",
   "outputs": [],
   "execution_count": null
  },
  {
   "metadata": {
    "ExecuteTime": {
     "end_time": "2025-02-26T13:36:14.584559Z",
     "start_time": "2025-02-26T13:36:14.581539Z"
    }
   },
   "cell_type": "code",
   "source": "",
   "outputs": [],
   "execution_count": null
  },
  {
   "metadata": {
    "ExecuteTime": {
     "end_time": "2025-02-26T13:36:10.745161Z",
     "start_time": "2025-02-26T13:36:10.741981Z"
    }
   },
   "cell_type": "code",
   "source": "",
   "outputs": [],
   "execution_count": null
  },
  {
   "metadata": {
    "ExecuteTime": {
     "end_time": "2025-02-26T13:36:03.484398Z",
     "start_time": "2025-02-26T13:36:03.481821Z"
    }
   },
   "cell_type": "code",
   "source": "",
   "outputs": [],
   "execution_count": null
  },
  {
   "metadata": {
    "ExecuteTime": {
     "end_time": "2025-02-26T13:35:57.471070Z",
     "start_time": "2025-02-26T13:35:57.468303Z"
    }
   },
   "cell_type": "code",
   "source": "",
   "outputs": [],
   "execution_count": null
  },
  {
   "metadata": {
    "ExecuteTime": {
     "end_time": "2025-02-26T13:35:57.618751Z",
     "start_time": "2025-02-26T13:35:57.615857Z"
    }
   },
   "cell_type": "code",
   "source": "",
   "outputs": [],
   "execution_count": null
  },
  {
   "metadata": {
    "ExecuteTime": {
     "end_time": "2025-02-26T13:35:57.751527Z",
     "start_time": "2025-02-26T13:35:57.748496Z"
    }
   },
   "cell_type": "code",
   "source": "",
   "outputs": [],
   "execution_count": null
  },
  {
   "metadata": {
    "ExecuteTime": {
     "end_time": "2025-02-26T13:35:58.337965Z",
     "start_time": "2025-02-26T13:35:58.335197Z"
    }
   },
   "cell_type": "code",
   "source": "",
   "outputs": [],
   "execution_count": null
  },
  {
   "metadata": {
    "ExecuteTime": {
     "end_time": "2025-02-26T13:35:58.697725Z",
     "start_time": "2025-02-26T13:35:58.694822Z"
    }
   },
   "cell_type": "code",
   "source": "",
   "outputs": [],
   "execution_count": null
  },
  {
   "metadata": {
    "ExecuteTime": {
     "end_time": "2025-02-26T13:35:59.083855Z",
     "start_time": "2025-02-26T13:35:59.081020Z"
    }
   },
   "cell_type": "code",
   "source": "",
   "outputs": [],
   "execution_count": null
  },
  {
   "metadata": {
    "ExecuteTime": {
     "end_time": "2025-02-26T13:35:59.633885Z",
     "start_time": "2025-02-26T13:35:59.630582Z"
    }
   },
   "cell_type": "code",
   "source": "",
   "outputs": [],
   "execution_count": null
  },
  {
   "metadata": {
    "ExecuteTime": {
     "end_time": "2025-02-26T13:36:00.024609Z",
     "start_time": "2025-02-26T13:36:00.021360Z"
    }
   },
   "cell_type": "code",
   "source": "",
   "outputs": [],
   "execution_count": null
  },
  {
   "metadata": {
    "ExecuteTime": {
     "end_time": "2025-02-26T13:36:00.467797Z",
     "start_time": "2025-02-26T13:36:00.464900Z"
    }
   },
   "cell_type": "code",
   "source": "",
   "outputs": [],
   "execution_count": null
  },
  {
   "metadata": {},
   "cell_type": "code",
   "outputs": [],
   "execution_count": null,
   "source": ""
  }
 ],
 "metadata": {
  "kernelspec": {
   "display_name": "Python 3",
   "language": "python",
   "name": "python3"
  },
  "language_info": {
   "codemirror_mode": {
    "name": "ipython",
    "version": 3
   },
   "file_extension": ".py",
   "mimetype": "text/x-python",
   "name": "python",
   "nbconvert_exporter": "python",
   "pygments_lexer": "ipython3",
   "version": "3.10.4"
  }
 },
 "nbformat": 4,
 "nbformat_minor": 2
}
