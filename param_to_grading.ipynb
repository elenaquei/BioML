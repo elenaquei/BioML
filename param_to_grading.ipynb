{
 "cells": [
  {
   "cell_type": "code",
   "metadata": {
    "ExecuteTime": {
     "end_time": "2025-02-25T20:46:38.043108Z",
     "start_time": "2025-02-25T20:46:38.039039Z"
    }
   },
   "source": [
    "import numpy as np\n",
    "from models.nODE import nODE, make_nODE_from_parameters\n",
    "import scipy.io"
   ],
   "outputs": [],
   "execution_count": 7
  },
  {
   "cell_type": "code",
   "metadata": {
    "ExecuteTime": {
     "end_time": "2025-02-25T20:46:38.198747Z",
     "start_time": "2025-02-25T20:46:38.188604Z"
    }
   },
   "source": [
    "def distribute_parameters(param,adj):\n",
    "    W1 = np.zeros((adj.shape[0],adj.shape[1]))\n",
    "    k = 0\n",
    "    for i in range(0, adj.shape[0]):\n",
    "        for j in range(0, adj.shape[1]):\n",
    "            if adj[i,j] > 0:\n",
    "                W1[i,j] = param[k]\n",
    "                k += 1\n",
    "\n",
    "    gamma = np.zeros(adj.shape[0])\n",
    "    for i in range(0, adj.shape[0]):\n",
    "        gamma[i] = -param[k]\n",
    "        k += 1\n",
    "\n",
    "    b2 = np.zeros(adj.shape[0])\n",
    "    for i in range(0, adj.shape[0]):\n",
    "        b2[i] = param[k]\n",
    "        k += 1\n",
    "        \n",
    "    b1 = np.zeros(adj.shape[0])\n",
    "    for i in range(0, adj.shape[0]):\n",
    "        b1[i] = param[k]\n",
    "        k += 1\n",
    "\n",
    "    W2 = np.zeros((adj.shape[0],adj.shape[1]))\n",
    "    for i in range(0, adj.shape[0]):\n",
    "        for j in range(0, adj.shape[1]):\n",
    "            if i == j:\n",
    "                W2[i,j] = param[k]\n",
    "                k += 1\n",
    "    \n",
    "    return W1, gamma, b1, b2, W2\n"
   ],
   "outputs": [],
   "execution_count": 8
  },
  {
   "cell_type": "code",
   "metadata": {
    "ExecuteTime": {
     "end_time": "2025-02-25T20:50:10.592583Z",
     "start_time": "2025-02-25T20:50:10.582805Z"
    }
   },
   "source": [
    "param1 = np.loadtxt('data/dyn_bifurcating/fit_cluster0_2_3.txt')\n",
    "param2 = np.loadtxt('data/dyn_bifurcating/fit_cluster0.txt')\n",
    "\n",
    "adj1 = scipy.io.loadmat('data/dyn_bifurcating/net.mat')['Aref']\n",
    "adj1[2,3] = 0\n",
    "adj2 = scipy.io.loadmat('data/dyn_bifurcating/net.mat')['Aref']\n",
    "\n",
    "(W1_1, gamma_1, b1_1, b2_1, W2_1) = distribute_parameters(param1,adj1)\n",
    "(W1_2, gamma_2, b1_2, b2_2, W2_2) = distribute_parameters(param2,adj2)\n",
    "\n",
    "# make_nODE_from_parameters(Gamma, Win=None, bin=None, Wout=None, bout=None)\n",
    "nODE1 = make_nODE_from_parameters(gamma_1, W1_1, b1_1, W2_1, b2_1)\n",
    "nODE2_base = make_nODE_from_parameters(gamma_2, W1_2, b1_2, W2_2, b2_2)"
   ],
   "outputs": [],
   "execution_count": 14
  },
  {
   "cell_type": "code",
   "metadata": {
    "ExecuteTime": {
     "end_time": "2025-02-25T20:50:58.495453Z",
     "start_time": "2025-02-25T20:50:11.012181Z"
    }
   },
   "source": [
    "from models.ranking import rank\n",
    "\n",
    "rank(nODE1,nODE2_base)"
   ],
   "outputs": [
    {
     "data": {
      "text/plain": [
       "[0.6984886635569303, 0.2959223985671997, 1.0]"
      ]
     },
     "execution_count": 15,
     "metadata": {},
     "output_type": "execute_result"
    }
   ],
   "execution_count": 15
  },
  {
   "cell_type": "code",
   "metadata": {
    "ExecuteTime": {
     "end_time": "2025-02-25T20:50:58.512227Z",
     "start_time": "2025-02-25T20:50:58.502321Z"
    }
   },
   "source": [
    "param1 = np.loadtxt('data/dyn_bifurcating/fit_cluster0_2_3_improved.txt')\n",
    "param2 = np.loadtxt('data/dyn_bifurcating/fit_cluster0.txt')\n",
    "\n",
    "adj1 = scipy.io.loadmat('gae_results/dyn_bifurcating_2_3.mat')['inferred_adj']\n",
    "adj1 = (adj1>0.5).astype(int)\n",
    "adj2 = scipy.io.loadmat('data/dyn_bifurcating/net.mat')['Aref']\n",
    "\n",
    "(W1_1, gamma_1, b1_1, b2_1, W2_1) = distribute_parameters(param1,adj1)\n",
    "(W1_2, gamma_2, b1_2, b2_2, W2_2) = distribute_parameters(param2,adj2)\n",
    "\n",
    "# make_nODE_from_parameters(Gamma, Win=None, bin=None, Wout=None, bout=None)\n",
    "nODE1 = make_nODE_from_parameters(gamma_1, W1_1, b1_1, W2_1, b2_1)\n",
    "nODE2_gae = make_nODE_from_parameters(gamma_2, W1_2, b1_2, W2_2, b2_2)"
   ],
   "outputs": [],
   "execution_count": 16
  },
  {
   "cell_type": "code",
   "metadata": {
    "ExecuteTime": {
     "end_time": "2025-02-25T20:52:47.406009Z",
     "start_time": "2025-02-25T20:50:58.538046Z"
    }
   },
   "source": [
    "from models.ranking import rank\n",
    "\n",
    "rank(nODE1,nODE2_gae)"
   ],
   "outputs": [
    {
     "data": {
      "text/plain": [
       "[0.0, 0.2195059061050415, 0.07692307692307687]"
      ]
     },
     "execution_count": 17,
     "metadata": {},
     "output_type": "execute_result"
    }
   ],
   "execution_count": 17
  },
  {
   "metadata": {
    "ExecuteTime": {
     "end_time": "2025-02-25T20:52:47.446997Z",
     "start_time": "2025-02-25T20:52:47.444206Z"
    }
   },
   "cell_type": "code",
   "source": "",
   "outputs": [],
   "execution_count": null
  },
  {
   "metadata": {
    "ExecuteTime": {
     "end_time": "2025-02-25T20:53:08.936877Z",
     "start_time": "2025-02-25T20:53:08.929236Z"
    }
   },
   "cell_type": "code",
   "source": "nODE2_gae.adjacency_matrix()",
   "outputs": [
    {
     "data": {
      "text/plain": [
       "tensor([[ 0.,  1.,  0.,  0.,  0.,  0.,  0.],\n",
       "        [ 0.,  0.,  1.,  0.,  0.,  0.,  0.],\n",
       "        [ 0.,  0.,  0.,  1.,  1.,  0.,  0.],\n",
       "        [-1.,  0.,  0., -1., -1., -1., -1.],\n",
       "        [-1.,  0.,  0.,  1.,  1.,  0.,  0.],\n",
       "        [ 0.,  0.,  0.,  0.,  0.,  0.,  0.],\n",
       "        [ 0.,  0.,  0.,  0.,  0.,  0.,  0.]])"
      ]
     },
     "execution_count": 21,
     "metadata": {},
     "output_type": "execute_result"
    }
   ],
   "execution_count": 21
  },
  {
   "metadata": {
    "ExecuteTime": {
     "end_time": "2025-02-25T20:53:11.232762Z",
     "start_time": "2025-02-25T20:53:11.225992Z"
    }
   },
   "cell_type": "code",
   "source": "nODE2_base.adjacency_matrix()",
   "outputs": [
    {
     "data": {
      "text/plain": [
       "tensor([[ 0.,  1.,  0.,  0.,  0.,  0.,  0.],\n",
       "        [ 0.,  0.,  1.,  0.,  0.,  0.,  0.],\n",
       "        [ 0.,  0.,  0.,  1.,  1.,  0.,  0.],\n",
       "        [-1.,  0.,  0., -1., -1., -1., -1.],\n",
       "        [-1.,  0.,  0.,  1.,  1.,  0.,  0.],\n",
       "        [ 0.,  0.,  0.,  0.,  0.,  0.,  0.],\n",
       "        [ 0.,  0.,  0.,  0.,  0.,  0.,  0.]])"
      ]
     },
     "execution_count": 22,
     "metadata": {},
     "output_type": "execute_result"
    }
   ],
   "execution_count": 22
  },
  {
   "metadata": {
    "ExecuteTime": {
     "end_time": "2025-02-25T20:44:22.136790Z",
     "start_time": "2025-02-25T20:39:48.741786Z"
    }
   },
   "cell_type": "code",
   "source": "np.abs(nODE2_gae.adjacency_matrix()) - np.abs(nODE1.adjacency_matrix())",
   "outputs": [
    {
     "data": {
      "text/plain": [
       "tensor([[0., 0., 0., 0., 0., 0., 0.],\n",
       "        [0., 0., 0., 0., 0., 0., 0.],\n",
       "        [0., 0., 0., 1., 0., 0., 0.],\n",
       "        [0., 0., 0., 0., 0., 0., 0.],\n",
       "        [0., 0., 0., 0., 0., 0., 0.],\n",
       "        [0., 0., 0., 0., 0., 0., 0.],\n",
       "        [0., 0., 0., 0., 0., 0., 0.]])"
      ]
     },
     "execution_count": 31,
     "metadata": {},
     "output_type": "execute_result"
    }
   ],
   "execution_count": 31
  },
  {
   "metadata": {
    "ExecuteTime": {
     "end_time": "2025-02-25T20:44:22.137199Z",
     "start_time": "2025-02-25T20:40:33.101873Z"
    }
   },
   "cell_type": "code",
   "source": "",
   "outputs": [
    {
     "data": {
      "text/plain": [
       "0.30151135"
      ]
     },
     "execution_count": 33,
     "metadata": {},
     "output_type": "execute_result"
    }
   ],
   "execution_count": 33
  },
  {
   "metadata": {
    "ExecuteTime": {
     "end_time": "2025-02-25T20:44:22.137529Z",
     "start_time": "2025-02-25T20:40:43.659640Z"
    }
   },
   "cell_type": "code",
   "source": "",
   "outputs": [
    {
     "data": {
      "text/plain": [
       "3.3166249"
      ]
     },
     "execution_count": 34,
     "metadata": {},
     "output_type": "execute_result"
    }
   ],
   "execution_count": 34
  },
  {
   "metadata": {
    "ExecuteTime": {
     "end_time": "2025-02-25T20:44:22.137963Z",
     "start_time": "2025-02-25T20:40:49.386725Z"
    }
   },
   "cell_type": "code",
   "source": "",
   "outputs": [
    {
     "data": {
      "text/plain": [
       "1.0"
      ]
     },
     "execution_count": 35,
     "metadata": {},
     "output_type": "execute_result"
    }
   ],
   "execution_count": 35
  },
  {
   "metadata": {
    "ExecuteTime": {
     "end_time": "2025-02-25T20:53:23.314807Z",
     "start_time": "2025-02-25T20:53:23.309171Z"
    }
   },
   "cell_type": "code",
   "source": [
    "true_network = np.abs(nODE1.adjacency_matrix())\n",
    "found_network = np.abs(nODE2_gae.adjacency_matrix())\n",
    "ranking_network = 1 - np.linalg.norm(true_network - found_network) / np.max([1., np.linalg.norm(true_network)])"
   ],
   "outputs": [],
   "execution_count": 23
  },
  {
   "metadata": {
    "ExecuteTime": {
     "end_time": "2025-02-25T20:53:23.844511Z",
     "start_time": "2025-02-25T20:53:23.839554Z"
    }
   },
   "cell_type": "code",
   "source": "ranking_network",
   "outputs": [
    {
     "data": {
      "text/plain": [
       "-0.45296637217203783"
      ]
     },
     "execution_count": 24,
     "metadata": {},
     "output_type": "execute_result"
    }
   ],
   "execution_count": 24
  },
  {
   "metadata": {
    "ExecuteTime": {
     "end_time": "2025-02-25T20:53:39.758398Z",
     "start_time": "2025-02-25T20:53:39.751403Z"
    }
   },
   "cell_type": "code",
   "source": "np.linalg.norm(true_network - found_network)",
   "outputs": [
    {
     "data": {
      "text/plain": [
       "4.358899"
      ]
     },
     "execution_count": 25,
     "metadata": {},
     "output_type": "execute_result"
    }
   ],
   "execution_count": 25
  },
  {
   "metadata": {
    "ExecuteTime": {
     "end_time": "2025-02-25T20:53:46.258701Z",
     "start_time": "2025-02-25T20:53:46.251625Z"
    }
   },
   "cell_type": "code",
   "source": "np.linalg.norm(true_network)",
   "outputs": [
    {
     "data": {
      "text/plain": [
       "3.0"
      ]
     },
     "execution_count": 26,
     "metadata": {},
     "output_type": "execute_result"
    }
   ],
   "execution_count": 26
  },
  {
   "metadata": {
    "ExecuteTime": {
     "end_time": "2025-02-25T20:55:08.755388Z",
     "start_time": "2025-02-25T20:55:08.746867Z"
    }
   },
   "cell_type": "code",
   "source": "nODE1.adjacency_matrix()",
   "outputs": [
    {
     "data": {
      "text/plain": [
       "tensor([[0., 0., 1., 0., 0., 0., 0.],\n",
       "        [0., 1., 0., 0., 1., 0., 0.],\n",
       "        [0., 0., 1., 1., 0., 0., 0.],\n",
       "        [0., 0., 0., 0., 0., 0., 0.],\n",
       "        [0., 1., 0., 0., 0., 1., 1.],\n",
       "        [0., 0., 0., 0., 1., 0., 0.],\n",
       "        [0., 0., 0., 0., 0., 0., 0.]])"
      ]
     },
     "execution_count": 30,
     "metadata": {},
     "output_type": "execute_result"
    }
   ],
   "execution_count": 30
  },
  {
   "metadata": {
    "ExecuteTime": {
     "end_time": "2025-02-25T20:54:50.063764Z",
     "start_time": "2025-02-25T20:54:50.056214Z"
    }
   },
   "cell_type": "code",
   "source": "nODE2_gae.adjacency_matrix()",
   "outputs": [
    {
     "data": {
      "text/plain": [
       "tensor([[ 0.,  1.,  0.,  0.,  0.,  0.,  0.],\n",
       "        [ 0.,  0.,  1.,  0.,  0.,  0.,  0.],\n",
       "        [ 0.,  0.,  0.,  1.,  1.,  0.,  0.],\n",
       "        [-1.,  0.,  0., -1., -1., -1., -1.],\n",
       "        [-1.,  0.,  0.,  1.,  1.,  0.,  0.],\n",
       "        [ 0.,  0.,  0.,  0.,  0.,  0.,  0.],\n",
       "        [ 0.,  0.,  0.,  0.,  0.,  0.,  0.]])"
      ]
     },
     "execution_count": 29,
     "metadata": {},
     "output_type": "execute_result"
    }
   ],
   "execution_count": 29
  },
  {
   "metadata": {},
   "cell_type": "code",
   "outputs": [],
   "execution_count": null,
   "source": ""
  }
 ],
 "metadata": {
  "kernelspec": {
   "display_name": "Python 3",
   "language": "python",
   "name": "python3"
  },
  "language_info": {
   "codemirror_mode": {
    "name": "ipython",
    "version": 3
   },
   "file_extension": ".py",
   "mimetype": "text/x-python",
   "name": "python",
   "nbconvert_exporter": "python",
   "pygments_lexer": "ipython3",
   "version": "3.10.4"
  }
 },
 "nbformat": 4,
 "nbformat_minor": 2
}
