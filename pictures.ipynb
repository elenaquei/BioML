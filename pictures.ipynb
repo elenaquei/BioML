{
 "cells": [
  {
   "cell_type": "code",
   "execution_count": 1,
   "id": "8a182416-b2bb-46dc-a372-deff9068bd3b",
   "metadata": {},
   "outputs": [],
   "source": [
    "import numpy as np\n",
    "import matplotlib.pyplot as plt\n",
    "from models.training import easyTrainer, weights_to_dataset\n",
    "from models.nODE import nODE, make_nODE_from_parameters"
   ]
  },
  {
   "cell_type": "code",
   "execution_count": 2,
   "id": "ac8170ff-929d-4d80-8e63-24d37f87ffee",
   "metadata": {},
   "outputs": [],
   "source": [
    "W1 = np.array([[0.0, -0.1 ],[-0.2, 0.0]])\n",
    "W2 = np.array([[1.2, 0.],[0.0, 2]])\n",
    "gamma = np.array([-0.5, -0.25])\n",
    "b1 = -gamma*8\n",
    "b2 = gamma\n",
    "\n",
    "def f(x):\n",
    "    return gamma * x + np.matmul( W2, np.tanh(np.matmul(W1, x) + b1) ) + b2\n",
    "\n",
    "def f_10(x):\n",
    "    x[0] = 0\n",
    "    f = np.matmul( W2, np.tanh(np.matmul(W1, x) + b1) )\n",
    "    return f[0]\n",
    "\n",
    "def f_00(x):\n",
    "    x[1] = 0\n",
    "    f = np.matmul( W2, np.tanh(np.matmul(W1, x) + b1) )\n",
    "    return f[0]\n",
    "\n",
    "def f_01(x):\n",
    "    x[1] = 0\n",
    "    f = np.matmul( W2, np.tanh(np.matmul(W1, x) + b1) )\n",
    "    return f[1]\n",
    "\n",
    "\n",
    "def f_11(x):\n",
    "    x[0] = 0\n",
    "    f = np.matmul( W2, np.tanh(np.matmul(W1, x) + b1) )\n",
    "    return f[1]"
   ]
  },
  {
   "cell_type": "code",
   "execution_count": 3,
   "id": "c6d76f8b-9512-4f65-b7b0-81987506e125",
   "metadata": {},
   "outputs": [
    {
     "name": "stdout",
     "output_type": "stream",
     "text": [
      "[[ 0.         -0.14130163]\n",
      " [-2.          0.        ]] [3.9986587 5.9280553]\n",
      "[[ 0.         -0.14130163]\n",
      " [-2.          0.        ]] [3.9986587 5.9280553]\n",
      "[[ 0.         -0.14130163]\n",
      " [-2.          0.        ]] [3.9986587 5.9280553]\n",
      "[[ 0.         -0.14130163]\n",
      " [-2.          0.        ]] [3.9986587 5.9280553]\n",
      "[[ 0.         -0.14130163]\n",
      " [-2.          0.        ]] [3.9986587 5.9280553]\n",
      "[[ 0.         -0.14130163]\n",
      " [-2.          0.        ]] [3.9986587 5.9280553]\n",
      "[[ 0.         -0.14130163]\n",
      " [-2.          0.        ]] [3.9986587 5.9280553]\n",
      "[[ 0.         -0.14130163]\n",
      " [-2.          0.        ]] [3.9986587 5.9280553]\n",
      "[[ 0.         -0.14130163]\n",
      " [-2.          0.        ]] [3.9986587 5.9280553]\n",
      "[[ 0.         -0.14130163]\n",
      " [-2.          0.        ]] [3.9986587 5.9280553]\n",
      "iteration :  9\n",
      "[[ 0.         -0.83994865]\n",
      " [-2.          0.        ]] [4.9986587 5.9901094]\n",
      "[[ 0.         -0.83994865]\n",
      " [-2.          0.        ]] [4.9986587 5.9901094]\n",
      "[[ 0.         -0.83994865]\n",
      " [-2.          0.        ]] [4.9986587 5.9901094]\n",
      "[[ 0.         -0.83994865]\n",
      " [-2.          0.        ]] [4.9986587 5.9901094]\n",
      "[[ 0.         -0.83994865]\n",
      " [-2.          0.        ]] [4.9986587 5.9901094]\n",
      "[[ 0.         -0.83994865]\n",
      " [-2.          0.        ]] [4.9986587 5.9901094]\n",
      "[[ 0.         -0.83994865]\n",
      " [-2.          0.        ]] [4.9986587 5.9901094]\n",
      "[[ 0.         -0.83994865]\n",
      " [-2.          0.        ]] [4.9986587 5.9901094]\n",
      "[[ 0.         -0.83994865]\n",
      " [-2.          0.        ]] [4.9986587 5.9901094]\n",
      "[[ 0.         -0.83994865]\n",
      " [-2.          0.        ]] [4.9986587 5.9901094]\n",
      "iteration :  9\n",
      "[[ 0. -2.]\n",
      " [-2.  0.]] [5.9986587 5.9986587]\n",
      "[[ 0. -2.]\n",
      " [-2.  0.]] [5.9986587 5.9986587]\n",
      "[[ 0. -2.]\n",
      " [-2.  0.]] [5.9986587 5.9986587]\n",
      "[[ 0. -2.]\n",
      " [-2.  0.]] [5.9986587 5.9986587]\n",
      "[[ 0. -2.]\n",
      " [-2.  0.]] [5.9986587 5.9986587]\n",
      "[[ 0. -2.]\n",
      " [-2.  0.]] [5.9986587 5.9986587]\n",
      "[[ 0. -2.]\n",
      " [-2.  0.]] [5.9986587 5.9986587]\n",
      "[[ 0. -2.]\n",
      " [-2.  0.]] [5.9986587 5.9986587]\n",
      "[[ 0. -2.]\n",
      " [-2.  0.]] [5.9986587 5.9986587]\n",
      "[[ 0. -2.]\n",
      " [-2.  0.]] [5.9986587 5.9986587]\n",
      "iteration :  9\n",
      "[[ 0.         -0.14130163]\n",
      " [-0.83994865  0.        ]] [3.9901094 4.9280553]\n",
      "[[ 0.         -0.14130163]\n",
      " [-0.83994865  0.        ]] [3.9901094 4.9280553]\n",
      "[[ 0.         -0.14130163]\n",
      " [-0.83994865  0.        ]] [3.9901094 4.9280553]\n",
      "[[ 0.         -0.14130163]\n",
      " [-0.83994865  0.        ]] [3.9901094 4.9280553]\n",
      "[[ 0.         -0.14130163]\n",
      " [-0.83994865  0.        ]] [3.9901094 4.9280553]\n",
      "[[ 0.         -0.14130163]\n",
      " [-0.83994865  0.        ]] [3.9901094 4.9280553]\n",
      "[[ 0.         -0.14130163]\n",
      " [-0.83994865  0.        ]] [3.9901094 4.9280553]\n",
      "[[ 0.         -0.14130163]\n",
      " [-0.83994865  0.        ]] [3.9901094 4.9280553]\n",
      "[[ 0.         -0.14130163]\n",
      " [-0.83994865  0.        ]] [3.9901094 4.9280553]\n",
      "[[ 0.         -0.14130163]\n",
      " [-0.83994865  0.        ]] [3.9901094 4.9280553]\n",
      "iteration :  9\n",
      "[[ 0.         -0.83994865]\n",
      " [-0.83994865  0.        ]] [4.9901094 4.9901094]\n",
      "[[ 0.         -0.83994865]\n",
      " [-0.83994865  0.        ]] [4.9901094 4.9901094]\n",
      "[[ 0.         -0.83994865]\n",
      " [-0.83994865  0.        ]] [4.9901094 4.9901094]\n",
      "[[ 0.         -0.83994865]\n",
      " [-0.83994865  0.        ]] [4.9901094 4.9901094]\n",
      "[[ 0.         -0.83994865]\n",
      " [-0.83994865  0.        ]] [4.9901094 4.9901094]\n",
      "[[ 0.         -0.83994865]\n",
      " [-0.83994865  0.        ]] [4.9901094 4.9901094]\n",
      "[[ 0.         -0.83994865]\n",
      " [-0.83994865  0.        ]] [4.9901094 4.9901094]\n",
      "[[ 0.         -0.83994865]\n",
      " [-0.83994865  0.        ]] [4.9901094 4.9901094]\n",
      "[[ 0.         -0.83994865]\n",
      " [-0.83994865  0.        ]] [4.9901094 4.9901094]\n",
      "[[ 0.         -0.83994865]\n",
      " [-0.83994865  0.        ]] [4.9901094 4.9901094]\n",
      "iteration :  9\n",
      "[[ 0.         -2.        ]\n",
      " [-0.83994865  0.        ]] [5.9901094 4.9986587]\n",
      "[[ 0.         -2.        ]\n",
      " [-0.83994865  0.        ]] [5.9901094 4.9986587]\n",
      "[[ 0.         -2.        ]\n",
      " [-0.83994865  0.        ]] [5.9901094 4.9986587]\n",
      "[[ 0.         -2.        ]\n",
      " [-0.83994865  0.        ]] [5.9901094 4.9986587]\n",
      "[[ 0.         -2.        ]\n",
      " [-0.83994865  0.        ]] [5.9901094 4.9986587]\n",
      "[[ 0.         -2.        ]\n",
      " [-0.83994865  0.        ]] [5.9901094 4.9986587]\n",
      "[[ 0.         -2.        ]\n",
      " [-0.83994865  0.        ]] [5.9901094 4.9986587]\n",
      "[[ 0.         -2.        ]\n",
      " [-0.83994865  0.        ]] [5.9901094 4.9986587]\n",
      "[[ 0.         -2.        ]\n",
      " [-0.83994865  0.        ]] [5.9901094 4.9986587]\n",
      "[[ 0.         -2.        ]\n",
      " [-0.83994865  0.        ]] [5.9901094 4.9986587]\n",
      "iteration :  9\n",
      "[[ 0.         -0.14130163]\n",
      " [-0.14130163  0.        ]] [3.9280553 3.9280553]\n",
      "[[ 0.         -0.14130163]\n",
      " [-0.14130163  0.        ]] [3.9280553 3.9280553]\n",
      "[[ 0.         -0.14130163]\n",
      " [-0.14130163  0.        ]] [3.9280553 3.9280553]\n",
      "[[ 0.         -0.14130163]\n",
      " [-0.14130163  0.        ]] [3.9280553 3.9280553]\n",
      "[[ 0.         -0.14130163]\n",
      " [-0.14130163  0.        ]] [3.9280553 3.9280553]\n",
      "[[ 0.         -0.14130163]\n",
      " [-0.14130163  0.        ]] [3.9280553 3.9280553]\n",
      "[[ 0.         -0.14130163]\n",
      " [-0.14130163  0.        ]] [3.9280553 3.9280553]\n",
      "[[ 0.         -0.14130163]\n",
      " [-0.14130163  0.        ]] [3.9280553 3.9280553]\n",
      "[[ 0.         -0.14130163]\n",
      " [-0.14130163  0.        ]] [3.9280553 3.9280553]\n",
      "[[ 0.         -0.14130163]\n",
      " [-0.14130163  0.        ]] [3.9280553 3.9280553]\n",
      "iteration :  9\n",
      "[[ 0.         -0.83994865]\n",
      " [-0.14130163  0.        ]] [4.9280553 3.9901094]\n",
      "[[ 0.         -0.83994865]\n",
      " [-0.14130163  0.        ]] [4.9280553 3.9901094]\n",
      "[[ 0.         -0.83994865]\n",
      " [-0.14130163  0.        ]] [4.9280553 3.9901094]\n",
      "[[ 0.         -0.83994865]\n",
      " [-0.14130163  0.        ]] [4.9280553 3.9901094]\n",
      "[[ 0.         -0.83994865]\n",
      " [-0.14130163  0.        ]] [4.9280553 3.9901094]\n",
      "[[ 0.         -0.83994865]\n",
      " [-0.14130163  0.        ]] [4.9280553 3.9901094]\n",
      "[[ 0.         -0.83994865]\n",
      " [-0.14130163  0.        ]] [4.9280553 3.9901094]\n",
      "[[ 0.         -0.83994865]\n",
      " [-0.14130163  0.        ]] [4.9280553 3.9901094]\n",
      "[[ 0.         -0.83994865]\n",
      " [-0.14130163  0.        ]] [4.9280553 3.9901094]\n",
      "[[ 0.         -0.83994865]\n",
      " [-0.14130163  0.        ]] [4.9280553 3.9901094]\n",
      "iteration :  9\n",
      "[[ 0.         -2.        ]\n",
      " [-0.14130163  0.        ]] [5.9280553 3.9986587]\n",
      "[[ 0.         -2.        ]\n",
      " [-0.14130163  0.        ]] [5.9280553 3.9986587]\n",
      "[[ 0.         -2.        ]\n",
      " [-0.14130163  0.        ]] [5.9280553 3.9986587]\n",
      "[[ 0.         -2.        ]\n",
      " [-0.14130163  0.        ]] [5.9280553 3.9986587]\n",
      "[[ 0.         -2.        ]\n",
      " [-0.14130163  0.        ]] [5.9280553 3.9986587]\n",
      "[[ 0.         -2.        ]\n",
      " [-0.14130163  0.        ]] [5.9280553 3.9986587]\n",
      "[[ 0.         -2.        ]\n",
      " [-0.14130163  0.        ]] [5.9280553 3.9986587]\n",
      "[[ 0.         -2.        ]\n",
      " [-0.14130163  0.        ]] [5.9280553 3.9986587]\n",
      "[[ 0.         -2.        ]\n",
      " [-0.14130163  0.        ]] [5.9280553 3.9986587]\n",
      "[[ 0.         -2.        ]\n",
      " [-0.14130163  0.        ]] [5.9280553 3.9986587]\n",
      "iteration :  9\n"
     ]
    }
   ],
   "source": [
    "ODE_dim = 2\n",
    "Gamma = np.array([-1., -1.])\n",
    "integration_time = 1\n",
    "Win = np.array([[0, -1],[1, 0]]).astype(float)\n",
    "Wout = np.array([[2, 0],[0, -2]]).astype(float)\n",
    "bin = np.array([[2.], [-2.]]).astype(float)\n",
    "bout = np.array([[2.], [2.]]).astype(float)\n",
    "\n",
    "node2 = make_nODE_from_parameters(Gamma, Win=Win, bin=bin, Wout=Wout, bout=bout)\n",
    "\n",
    "fp = node2.num_fixed_points()"
   ]
  },
  {
   "cell_type": "code",
   "execution_count": 4,
   "id": "3e97116b-4bf2-4e15-8a82-c285849d4957",
   "metadata": {},
   "outputs": [
    {
     "data": {
      "text/plain": [
       "array([[ 0.99933,  0.99933],\n",
       "       [ 1.99505,  3.95115],\n",
       "       [ 2.96403, 26.29874],\n",
       "       [ 3.95115,  1.99505],\n",
       "       [ 4.94097,  4.94097],\n",
       "       [ 5.86709, 27.23824],\n",
       "       [26.29874,  2.96403],\n",
       "       [27.23824,  5.86709],\n",
       "       [27.79908, 27.79908]])"
      ]
     },
     "execution_count": 4,
     "metadata": {},
     "output_type": "execute_result"
    }
   ],
   "source": [
    "fp"
   ]
  },
  {
   "cell_type": "code",
   "execution_count": 5,
   "id": "973e7aa5-5dae-4fb5-8612-38faa419780c",
   "metadata": {},
   "outputs": [
    {
     "data": {
      "text/plain": [
       "[<matplotlib.lines.Line2D at 0x13f450970>]"
      ]
     },
     "execution_count": 5,
     "metadata": {},
     "output_type": "execute_result"
    },
    {
     "data": {
      "image/png": "[encoded data removed]",
      "text/plain": [
       "<Figure size 640x480 with 1 Axes>"
      ]
     },
     "metadata": {},
     "output_type": "display_data"
    }
   ],
   "source": [
    "x_plot = np.linspace(0, 15, 100)\n",
    "X = np.array([x_plot, x_plot])\n",
    "F1 = np.array([f_10(x) for x in X.T])\n",
    "plt.plot(x_plot, F1)\n",
    "\n",
    "X = np.array([x_plot, x_plot])\n",
    "F2 = np.array([f_01(x) for x in X.T])\n",
    "plt.plot(x_plot, F2)\n",
    "\n",
    "# diagonal elements\n",
    "X = np.array([x_plot, x_plot])\n",
    "F1 = np.array([f_00(x) for x in X.T])\n",
    "plt.plot(x_plot, F1)\n",
    "\n",
    "X = np.array([x_plot, x_plot])\n",
    "F2 = np.array([f_11(x) for x in X.T])\n",
    "plt.plot(x_plot, F2)"
   ]
  },
  {
   "cell_type": "code",
   "execution_count": 6,
   "id": "20251439-251a-4247-bee7-70beef242d0e",
   "metadata": {},
   "outputs": [
    {
     "ename": "TypeError",
     "evalue": "'int' object is not callable",
     "output_type": "error",
     "traceback": [
      "\u001b[0;31m---------------------------------------------------------------------------\u001b[0m",
      "\u001b[0;31mTypeError\u001b[0m                                 Traceback (most recent call last)",
      "Cell \u001b[0;32mIn[6], line 1\u001b[0m\n\u001b[0;32m----> 1\u001b[0m \u001b[43mfp\u001b[49m\u001b[38;5;241;43m.\u001b[39;49m\u001b[43msize\u001b[49m\u001b[43m(\u001b[49m\u001b[43m)\u001b[49m\n",
      "\u001b[0;31mTypeError\u001b[0m: 'int' object is not callable"
     ]
    }
   ],
   "source": [
    "fp.size()"
   ]
  },
  {
   "cell_type": "code",
   "execution_count": null,
   "id": "edbd3ac4-fd91-4974-82b3-299a927bacf7",
   "metadata": {},
   "outputs": [],
   "source": [
    "np.linalg.solve(Win, np.array([1,2]))"
   ]
  },
  {
   "cell_type": "code",
   "execution_count": null,
   "id": "ca3eb067-9319-4301-bb55-2a01c1562cca",
   "metadata": {},
   "outputs": [],
   "source": [
    "y = node2.get_weights()\n",
    "a, b, c, d, e = [x.detach().numpy() for x in y]"
   ]
  },
  {
   "cell_type": "code",
   "execution_count": null,
   "id": "1682df4f-a6a1-49f5-a083-d5da9a760adf",
   "metadata": {},
   "outputs": [],
   "source": [
    "a"
   ]
  },
  {
   "cell_type": "code",
   "execution_count": null,
   "id": "97f6ddea-28a9-4727-be2f-e7f37e1ad1df",
   "metadata": {},
   "outputs": [],
   "source": [
    "np.matmul(W1, x)"
   ]
  },
  {
   "cell_type": "code",
   "execution_count": null,
   "id": "da9787cd-7b25-4fad-bb8a-e4931ddff42e",
   "metadata": {},
   "outputs": [],
   "source": [
    "W1"
   ]
  },
  {
   "cell_type": "code",
   "execution_count": null,
   "id": "d894b7a4-74e2-4f45-812e-84e39ba59375",
   "metadata": {},
   "outputs": [],
   "source": [
    "eqBound = np.array([[1,2],[3,4],[6,7]])\n",
    "gridDensity = 3\n",
    "coordinateIntervals = [np.linspace(*interval, num=gridDensity) for interval in eqBound]\n",
    "evalGrid = np.meshgrid(*coordinateIntervals)\n",
    "X = np.column_stack([G_i.flatten() for G_i in evalGrid])"
   ]
  },
  {
   "cell_type": "code",
   "execution_count": null,
   "id": "307a90cb-0b43-4c4c-a0fa-e9f3679811ed",
   "metadata": {},
   "outputs": [],
   "source": [
    "X"
   ]
  },
  {
   "cell_type": "code",
   "execution_count": null,
   "id": "302cdc06-7ed5-4aab-934b-7d74d88f3e82",
   "metadata": {},
   "outputs": [],
   "source": [
    "node2.phase_portrait()\n",
    "node2.plot()"
   ]
  },
  {
   "cell_type": "code",
   "execution_count": null,
   "id": "0f232158-8837-40df-b63e-5135cd093e7c",
   "metadata": {},
   "outputs": [],
   "source": [
    "x = np.array([1,2,3,4])"
   ]
  },
  {
   "cell_type": "code",
   "execution_count": null,
   "id": "4e1e2c8d-0cb8-4d69-9992-bfe65258d31e",
   "metadata": {},
   "outputs": [],
   "source": [
    "x.astype(float)"
   ]
  },
  {
   "cell_type": "code",
   "execution_count": 7,
   "id": "9b8f285e-e444-4396-be78-0b93e3c3dd30",
   "metadata": {},
   "outputs": [
    {
     "data": {
      "text/plain": [
       "array([ 2.08333333, -0.5       ])"
      ]
     },
     "execution_count": 7,
     "metadata": {},
     "output_type": "execute_result"
    }
   ],
   "source": [
    "np.linalg.solve(np.array([[1.2, 3],[2.4, 8]]), np.array([1, 1]))"
   ]
  },
  {
   "cell_type": "code",
   "execution_count": null,
   "id": "72ec0962-76bb-42cb-ace2-e488c898d5e2",
   "metadata": {},
   "outputs": [],
   "source": []
  }
 ],
 "metadata": {
  "kernelspec": {
   "display_name": "Python 3 (ipykernel)",
   "language": "python",
   "name": "python3"
  },
  "language_info": {
   "codemirror_mode": {
    "name": "ipython",
    "version": 3
   },
   "file_extension": ".py",
   "mimetype": "text/x-python",
   "name": "python",
   "nbconvert_exporter": "python",
   "pygments_lexer": "ipython3",
   "version": "3.9.20"
  }
 },
 "nbformat": 4,
 "nbformat_minor": 5
}
