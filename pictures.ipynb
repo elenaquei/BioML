{
 "cells": [
  {
   "cell_type": "code",
   "execution_count": 72,
   "id": "8a182416-b2bb-46dc-a372-deff9068bd3b",
   "metadata": {},
   "outputs": [],
   "source": [
    "import numpy as np\n",
    "import matplotlib.pyplot as plt\n",
    "from models.training import easyTrainer, weights_to_dataset\n",
    "from models.nODE import nODE, make_nODE_from_parameters\n",
    "import scipy\n",
    "import torch"
   ]
  },
  {
   "cell_type": "code",
   "execution_count": 4,
   "id": "076e1c19-f735-4317-9016-c52426b3e0f5",
   "metadata": {},
   "outputs": [],
   "source": [
    "# 5D repressilator"
   ]
  },
  {
   "cell_type": "code",
   "execution_count": 91,
   "id": "72ec0962-76bb-42cb-ace2-e488c898d5e2",
   "metadata": {},
   "outputs": [],
   "source": [
    "dim = 7\n",
    "\n",
    "gamma = - np.ones([dim])\n",
    "Wout = 2 * np.eye(dim)\n",
    "Win = np.zeros([dim, dim])\n",
    "for i in range(dim - 1):\n",
    "    Win[i, i + 1] = -1\n",
    "Win[dim - 1, 0] = -1\n",
    "bin, bout = 2 * np.ones([dim, 1]), 2 * np.ones([dim, 1])\n",
    "\n",
    "node_5Drepr = make_nODE_from_parameters(gamma, Win=Win, bin=bin, Wout=Wout, bout=bout)\n"
   ]
  },
  {
   "cell_type": "code",
   "execution_count": null,
   "id": "9b632118-7082-4668-83f3-90aab1eec301",
   "metadata": {},
   "outputs": [],
   "source": [
    "# generate random networks on 2 nodes"
   ]
  },
  {
   "cell_type": "code",
   "execution_count": 101,
   "id": "44f34b1f-15e7-494f-89e2-58ff259872ef",
   "metadata": {},
   "outputs": [
    {
     "data": {
      "text/plain": [
       "array([[0.11899321, 1.44942017],\n",
       "       [0.79702904, 2.00677987]])"
      ]
     },
     "execution_count": 101,
     "metadata": {},
     "output_type": "execute_result"
    }
   ],
   "source": [
    "rng1 = np.random.default_rng()\n",
    "rng1.standard_normal([2,2])"
   ]
  },
  {
   "cell_type": "code",
   "execution_count": 154,
   "id": "70a3903d-ea7d-4394-b9ef-5fee873b1abc",
   "metadata": {},
   "outputs": [],
   "source": [
    "def rand_dim(dim):\n",
    "    return rng1.standard_normal(dim)"
   ]
  },
  {
   "cell_type": "code",
   "execution_count": 155,
   "id": "f6da1f39-d948-4215-bfc3-0fcecfa5125a",
   "metadata": {},
   "outputs": [],
   "source": [
    "def adjacency_matrix(W):\n",
    "    if isinstance(W,np.ndarray):\n",
    "        W = torch.from_numpy(W)\n",
    "    values_log_W = torch.sort(torch.log(torch.abs(W.flatten())))[0]\n",
    "    threshold = values_log_W[torch.sort(values_log_W[1:] - values_log_W[:-1])[1][-1] + 1]\n",
    "    W_bool_activation = (W >= torch.exp(threshold))\n",
    "    W_bool_repr = (W <= -torch.exp(threshold))\n",
    "    adjacency_mat = W_bool_activation.float() - W_bool_repr.float()\n",
    "    return adjacency_mat"
   ]
  },
  {
   "cell_type": "code",
   "execution_count": 156,
   "id": "155be374-4f22-4c5d-9429-1cde0e2d083c",
   "metadata": {},
   "outputs": [],
   "source": [
    "def random_zeros(mat, threshold = 0.7):\n",
    "    rand_mat = np.random.uniform(size = np.shape(mat))\n",
    "    bool_mask = rand_mat > threshold\n",
    "    return np.multiply(mat, bool_mask)"
   ]
  },
  {
   "cell_type": "code",
   "execution_count": 188,
   "id": "5677453d-0c92-403b-bf4e-7e9cf4c00abc",
   "metadata": {},
   "outputs": [],
   "source": [
    "def randomize_adjacency(adjacency, threshold = 0.7):\n",
    "    noisy_adjacency = np.abs(adjacency)\n",
    "    flipped_adjacency = -1 + noisy_adjacency\n",
    "\n",
    "    # randomly remove  connections\n",
    "    rand_mat = np.random.uniform(size = np.shape(adjacency))\n",
    "    bool_mask = rand_mat > (1-threshold)\n",
    "    print(bool_mask)\n",
    "    noisy_adjacency = np.multiply(noisy_adjacency, bool_mask)\n",
    "    print(noisy_adjacency)\n",
    "    \n",
    "    #randomly add unwanted connections\n",
    "    rand_mat = np.random.uniform(size = np.shape(adjacency))\n",
    "    bool_mask = rand_mat > threshold    \n",
    "    print(bool_mask)\n",
    "    noisy_adjacency += np.multiply(flipped_adjacency, bool_mask)\n",
    "\n",
    "    return noisy_adjacency    "
   ]
  },
  {
   "cell_type": "code",
   "execution_count": 173,
   "id": "ee8e2301-3541-453c-8bac-b021e1acbe6f",
   "metadata": {},
   "outputs": [],
   "source": [
    "dim = 2\n",
    "n_data = 50\n",
    "\n",
    "gamma = - np.abs(rand_dim(dim))\n",
    "Wout = rand_dim([dim, dim])\n",
    "Win = rand_dim([dim, dim])\n",
    "bin, bout = rand_dim(dim), rand_dim(dim)\n",
    "\n",
    "Win = random_zeros(Win, threshold = 0.5)\n",
    "Wout = random_zeros(Wout)\n",
    "\n",
    "adjacency = adjacency_matrix(np.matmul(Wout, Win))\n",
    "\n",
    "node_2D = make_nODE_from_parameters(gamma, Win=Win, bin=bin, Wout=Wout, bout=bout)\n",
    "\n",
    "u0 = rand_dim([n_data, dim])\n",
    "uT = node_2D.trajectory(torch.from_numpy(u0).float()).detach().numpy()[-1,:,:]\n",
    "\n",
    "approx_adjacency = randomize_adjacency(adjacency)"
   ]
  },
  {
   "cell_type": "code",
   "execution_count": 174,
   "id": "f4a14e3a-018b-48cd-bff0-5036259051a9",
   "metadata": {},
   "outputs": [
    {
     "data": {
      "text/plain": [
       "(50, 2)"
      ]
     },
     "execution_count": 174,
     "metadata": {},
     "output_type": "execute_result"
    }
   ],
   "source": [
    "np.shape(uT)"
   ]
  },
  {
   "cell_type": "code",
   "execution_count": 175,
   "id": "873570f3-9943-4d2a-9170-738293b3afa3",
   "metadata": {},
   "outputs": [
    {
     "data": {
      "text/plain": [
       "tensor([[ 0.,  0.],\n",
       "        [ 1., -1.]])"
      ]
     },
     "execution_count": 175,
     "metadata": {},
     "output_type": "execute_result"
    }
   ],
   "source": [
    "adjacency"
   ]
  },
  {
   "cell_type": "code",
   "execution_count": 190,
   "id": "0d23d432-4a62-4c52-9587-3df36c2e780a",
   "metadata": {},
   "outputs": [
    {
     "name": "stdout",
     "output_type": "stream",
     "text": [
      "[[ True  True]\n",
      " [ True  True]]\n",
      "tensor([[0., 0.],\n",
      "        [1., 1.]])\n",
      "[[False  True]\n",
      " [ True  True]]\n"
     ]
    },
    {
     "data": {
      "text/plain": [
       "tensor([[ 0., -1.],\n",
       "        [ 1.,  1.]])"
      ]
     },
     "execution_count": 190,
     "metadata": {},
     "output_type": "execute_result"
    }
   ],
   "source": [
    "randomize_adjacency(adjacency)"
   ]
  },
  {
   "cell_type": "code",
   "execution_count": null,
   "id": "1605d4f7-9de6-4764-a7bc-8794efe33b85",
   "metadata": {},
   "outputs": [],
   "source": []
  },
  {
   "cell_type": "code",
   "execution_count": null,
   "id": "88c26973-20d3-48e1-83db-60462d7a9702",
   "metadata": {},
   "outputs": [],
   "source": []
  }
 ],
 "metadata": {
  "kernelspec": {
   "display_name": "Python 3 (ipykernel)",
   "language": "python",
   "name": "python3"
  },
  "language_info": {
   "codemirror_mode": {
    "name": "ipython",
    "version": 3
   },
   "file_extension": ".py",
   "mimetype": "text/x-python",
   "name": "python",
   "nbconvert_exporter": "python",
   "pygments_lexer": "ipython3",
   "version": "3.9.20"
  }
 },
 "nbformat": 4,
 "nbformat_minor": 5
}
