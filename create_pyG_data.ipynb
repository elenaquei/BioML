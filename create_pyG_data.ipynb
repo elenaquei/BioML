{
 "cells": [
  {
   "cell_type": "code",
   "execution_count": 3,
   "metadata": {},
   "outputs": [],
   "source": [
    "import torch\n",
    "from torch_geometric.data import Data\n",
    "from torch_geometric.loader import DataLoader\n",
    "from data_creation import create_dataset, torch_parameter_structure"
   ]
  },
  {
   "cell_type": "code",
   "execution_count": 11,
   "metadata": {},
   "outputs": [
    {
     "name": "stderr",
     "output_type": "stream",
     "text": [
      "<>:2: SyntaxWarning: list indices must be integers or slices, not tuple; perhaps you missed a comma?\n",
      "<>:2: SyntaxWarning: list indices must be integers or slices, not tuple; perhaps you missed a comma?\n",
      "C:\\Users\\JansenKlompLF\\AppData\\Local\\Temp\\ipykernel_9504\\4148600919.py:2: SyntaxWarning: list indices must be integers or slices, not tuple; perhaps you missed a comma?\n",
      "  x = [[x_train[0], x_train[2]] [x_train[1], x_train[3]]]\n",
      "C:\\Users\\JansenKlompLF\\AppData\\Local\\Temp\\ipykernel_9504\\4148600919.py:2: SyntaxWarning: list indices must be integers or slices, not tuple; perhaps you missed a comma?\n",
      "  x = [[x_train[0], x_train[2]] [x_train[1], x_train[3]]]\n",
      "C:\\Users\\JansenKlompLF\\AppData\\Local\\Temp\\ipykernel_9504\\4148600919.py:2: SyntaxWarning: list indices must be integers or slices, not tuple; perhaps you missed a comma?\n",
      "  x = [[x_train[0], x_train[2]] [x_train[1], x_train[3]]]\n",
      "C:\\Users\\JansenKlompLF\\AppData\\Local\\Temp\\ipykernel_9504\\4148600919.py:2: SyntaxWarning: list indices must be integers or slices, not tuple; perhaps you missed a comma?\n",
      "  x = [[x_train[0], x_train[2]] [x_train[1], x_train[3]]]\n",
      "C:\\Users\\JansenKlompLF\\AppData\\Local\\Temp\\ipykernel_9504\\4148600919.py:2: SyntaxWarning: list indices must be integers or slices, not tuple; perhaps you missed a comma?\n",
      "  x = [[x_train[0], x_train[2]] [x_train[1], x_train[3]]]\n",
      "C:\\Users\\JansenKlompLF\\AppData\\Local\\Temp\\ipykernel_9504\\4148600919.py:2: SyntaxWarning: list indices must be integers or slices, not tuple; perhaps you missed a comma?\n",
      "  x = [[x_train[0], x_train[2]] [x_train[1], x_train[3]]]\n",
      "C:\\Users\\JansenKlompLF\\AppData\\Local\\Temp\\ipykernel_9504\\4148600919.py:2: SyntaxWarning: list indices must be integers or slices, not tuple; perhaps you missed a comma?\n",
      "  x = [[x_train[0], x_train[2]] [x_train[1], x_train[3]]]\n"
     ]
    },
    {
     "ename": "TypeError",
     "evalue": "list indices must be integers or slices, not tuple",
     "output_type": "error",
     "traceback": [
      "\u001b[1;31m---------------------------------------------------------------------------\u001b[0m",
      "\u001b[1;31mTypeError\u001b[0m                                 Traceback (most recent call last)",
      "Cell \u001b[1;32mIn[11], line 17\u001b[0m\n\u001b[0;32m     15\u001b[0m dataset \u001b[38;5;241m=\u001b[39m []\n\u001b[0;32m     16\u001b[0m \u001b[38;5;28;01mfor\u001b[39;00m i \u001b[38;5;129;01min\u001b[39;00m \u001b[38;5;28mrange\u001b[39m(\u001b[38;5;241m0\u001b[39m,\u001b[38;5;28mlen\u001b[39m(x_train)):\n\u001b[1;32m---> 17\u001b[0m     dataset\u001b[38;5;241m.\u001b[39mappend(\u001b[43mto_network_structure\u001b[49m\u001b[43m(\u001b[49m\u001b[43mx_train\u001b[49m\u001b[43m[\u001b[49m\u001b[43mi\u001b[49m\u001b[43m]\u001b[49m\u001b[43m,\u001b[49m\u001b[43my_train\u001b[49m\u001b[43m[\u001b[49m\u001b[43mi\u001b[49m\u001b[43m]\u001b[49m\u001b[43m,\u001b[49m\u001b[38;5;241;43m1\u001b[39;49m\u001b[43m)\u001b[49m)\n\u001b[0;32m     19\u001b[0m \u001b[38;5;28mprint\u001b[39m(dataset)\n",
      "Cell \u001b[1;32mIn[11], line 2\u001b[0m, in \u001b[0;36mto_network_structure\u001b[1;34m(x_train, y_train, n_data)\u001b[0m\n\u001b[0;32m      1\u001b[0m \u001b[38;5;28;01mdef\u001b[39;00m \u001b[38;5;21mto_network_structure\u001b[39m(x_train, y_train, n_data):\n\u001b[1;32m----> 2\u001b[0m     x \u001b[38;5;241m=\u001b[39m [\u001b[43m[\u001b[49m\u001b[43mx_train\u001b[49m\u001b[43m[\u001b[49m\u001b[38;5;241;43m0\u001b[39;49m\u001b[43m]\u001b[49m\u001b[43m,\u001b[49m\u001b[43m \u001b[49m\u001b[43mx_train\u001b[49m\u001b[43m[\u001b[49m\u001b[38;5;241;43m2\u001b[39;49m\u001b[43m]\u001b[49m\u001b[43m]\u001b[49m\u001b[43m \u001b[49m\u001b[43m[\u001b[49m\u001b[43mx_train\u001b[49m\u001b[43m[\u001b[49m\u001b[38;5;241;43m1\u001b[39;49m\u001b[43m]\u001b[49m\u001b[43m,\u001b[49m\u001b[43m \u001b[49m\u001b[43mx_train\u001b[49m\u001b[43m[\u001b[49m\u001b[38;5;241;43m3\u001b[39;49m\u001b[43m]\u001b[49m\u001b[43m]\u001b[49m]\n\u001b[0;32m      3\u001b[0m     edge_index \u001b[38;5;241m=\u001b[39m [[\u001b[38;5;241m0\u001b[39m, \u001b[38;5;241m1\u001b[39m, \u001b[38;5;241m0\u001b[39m, \u001b[38;5;241m1\u001b[39m], [\u001b[38;5;241m0\u001b[39m, \u001b[38;5;241m0\u001b[39m, \u001b[38;5;241m1\u001b[39m, \u001b[38;5;241m1\u001b[39m]]\n\u001b[0;32m      4\u001b[0m     edge_attr \u001b[38;5;241m=\u001b[39m [[x_train[\u001b[38;5;241m4\u001b[39m]] [x_train[\u001b[38;5;241m5\u001b[39m]] [x_train[\u001b[38;5;241m6\u001b[39m]] [x_train[\u001b[38;5;241m7\u001b[39m]]]\n",
      "\u001b[1;31mTypeError\u001b[0m: list indices must be integers or slices, not tuple"
     ]
    }
   ],
   "source": [
    "def to_network_structure(x_train, y_train, n_data):\n",
    "    x = [[x_train[0], x_train[2]] [x_train[1], x_train[3]]]\n",
    "    edge_index = [[0, 1, 0, 1], [0, 0, 1, 1]]\n",
    "    edge_attr = [[x_train[4]] [x_train[5]] [x_train[6]] [x_train[7]]]\n",
    "\n",
    "    y = y_train\n",
    "\n",
    "    data = Data(x=x,edge_index=edge_index,edge_attr=edge_attr,y=y)\n",
    "\n",
    "    return data\n",
    "\n",
    "n_data = 1\n",
    "x_exact, x_train, y_train, param = create_dataset(2,n_data,10)\n",
    "\n",
    "dataset = []\n",
    "for i in range(0,len(x_train)):\n",
    "    dataset.append(to_network_structure(x_train[i],y_train[i],1))\n",
    "\n",
    "print(dataset)"
   ]
  }
 ],
 "metadata": {
  "kernelspec": {
   "display_name": "Python 3",
   "language": "python",
   "name": "python3"
  },
  "language_info": {
   "codemirror_mode": {
    "name": "ipython",
    "version": 3
   },
   "file_extension": ".py",
   "mimetype": "text/x-python",
   "name": "python",
   "nbconvert_exporter": "python",
   "pygments_lexer": "ipython3",
   "version": "3.10.11"
  }
 },
 "nbformat": 4,
 "nbformat_minor": 2
}
