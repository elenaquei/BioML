{
 "cells": [
  {
   "cell_type": "code",
   "execution_count": 39,
   "metadata": {},
   "outputs": [],
   "source": [
    "import torch\n",
    "from torch_geometric.data import Data\n",
    "from torch_geometric.loader import DataLoader\n",
    "from data_creation import create_dataset, torch_parameter_structure\n",
    "from torch_geometric.utils import dense_to_sparse"
   ]
  },
  {
   "cell_type": "code",
   "execution_count": null,
   "metadata": {},
   "outputs": [
    {
     "name": "stdout",
     "output_type": "stream",
     "text": [
      "tensor([[0., 1., 1., 1.],\n",
      "        [1., 0., 1., 1.],\n",
      "        [1., 1., 0., 1.],\n",
      "        [1., 1., 1., 0.]])\n",
      "tensor([[0, 0, 0, 1, 1, 1, 2, 2, 2, 3, 3, 3],\n",
      "        [1, 2, 3, 0, 2, 3, 0, 1, 3, 0, 1, 2]])\n",
      "tensor([[0.9885, 0.7553, 0.6612, 0.0000],\n",
      "        [0.9730, 0.0000, 1.0000, 0.0000],\n",
      "        [0.0000, 1.0000, 0.0000, 0.0000],\n",
      "        [1.9084, 0.0000, 1.0000, 0.0000]])\n",
      "tensor([[0.],\n",
      "        [0.]])\n"
     ]
    },
    {
     "ename": "IndexError",
     "evalue": "index 2 is out of bounds for dimension 0 with size 2",
     "output_type": "error",
     "traceback": [
      "\u001b[1;31m---------------------------------------------------------------------------\u001b[0m",
      "\u001b[1;31mIndexError\u001b[0m                                Traceback (most recent call last)",
      "Cell \u001b[1;32mIn[58], line 43\u001b[0m\n\u001b[0;32m     41\u001b[0m dataset \u001b[38;5;241m=\u001b[39m []\n\u001b[0;32m     42\u001b[0m \u001b[38;5;28;01mfor\u001b[39;00m i \u001b[38;5;129;01min\u001b[39;00m \u001b[38;5;28mrange\u001b[39m(\u001b[38;5;241m0\u001b[39m,\u001b[38;5;28mlen\u001b[39m(x_train)):\n\u001b[1;32m---> 43\u001b[0m     dataset\u001b[38;5;241m.\u001b[39mappend(\u001b[43mto_pyg_data\u001b[49m\u001b[43m(\u001b[49m\u001b[43mx_train\u001b[49m\u001b[43m[\u001b[49m\u001b[43mi\u001b[49m\u001b[43m]\u001b[49m\u001b[43m,\u001b[49m\u001b[43my_train\u001b[49m\u001b[43m[\u001b[49m\u001b[43mi\u001b[49m\u001b[43m]\u001b[49m\u001b[43m,\u001b[49m\u001b[43mode_dim\u001b[49m\u001b[43m,\u001b[49m\u001b[43mn_data\u001b[49m\u001b[43m)\u001b[49m)\n\u001b[0;32m     45\u001b[0m \u001b[38;5;28mprint\u001b[39m(dataset)\n\u001b[0;32m     47\u001b[0m loader \u001b[38;5;241m=\u001b[39m DataLoader(dataset)\n",
      "Cell \u001b[1;32mIn[58], line 28\u001b[0m, in \u001b[0;36mto_pyg_data\u001b[1;34m(x_train, y_train, ode_dim, n_data)\u001b[0m\n\u001b[0;32m     26\u001b[0m     \u001b[38;5;28;01mfor\u001b[39;00m j \u001b[38;5;129;01min\u001b[39;00m \u001b[38;5;28mrange\u001b[39m(\u001b[38;5;241m0\u001b[39m,ode_dim):\n\u001b[0;32m     27\u001b[0m         \u001b[38;5;28;01mif\u001b[39;00m i \u001b[38;5;241m!=\u001b[39m j:\n\u001b[1;32m---> 28\u001b[0m             \u001b[43medge_attr\u001b[49m\u001b[43m[\u001b[49m\u001b[43mk\u001b[49m\u001b[43m,\u001b[49m\u001b[38;5;241;43m0\u001b[39;49m\u001b[43m]\u001b[49m \u001b[38;5;241m=\u001b[39m weights[i,j]\n\u001b[0;32m     29\u001b[0m             k \u001b[38;5;241m+\u001b[39m\u001b[38;5;241m=\u001b[39m \u001b[38;5;241m1\u001b[39m\n\u001b[0;32m     31\u001b[0m y \u001b[38;5;241m=\u001b[39m y_train\n",
      "\u001b[1;31mIndexError\u001b[0m: index 2 is out of bounds for dimension 0 with size 2"
     ]
    }
   ],
   "source": [
    "def to_pyg_data(x_train, y_train, ode_dim, n_data):\n",
    "    # distribute x_train values as node features\n",
    "    x = torch.zeros([ode_dim, 2*n_data])\n",
    "\n",
    "    k = 0\n",
    "    for j in range(0,2*n_data):\n",
    "        for i in range(0,ode_dim):\n",
    "            x[i,j] = x_train[k]\n",
    "            k += 1\n",
    "\n",
    "    # build edge indices (assuming fully connected network)\n",
    "    adj_matrix = torch.ones((ode_dim, ode_dim)) - torch.eye(ode_dim)\n",
    "    edge_index, _ = dense_to_sparse(adj_matrix)\n",
    "\n",
    "    # distribute weights as edge attributes \n",
    "    edge_attr = torch.zeros([len(edge_index.t()),1])\n",
    "    weights  = torch.reshape(x_train[k:],[ode_dim,ode_dim])\n",
    "    \n",
    "    k = 0\n",
    "    for i in range(0,ode_dim):\n",
    "        for j in range(0,ode_dim):\n",
    "            if i != j:\n",
    "                edge_attr[k,0] = weights[i,j]\n",
    "                k += 1\n",
    "\n",
    "    y = y_train\n",
    "\n",
    "    data = Data(x=x,edge_index=edge_index,edge_attr=edge_attr,y=y)\n",
    "\n",
    "    return data\n",
    "\n",
    "ode_dim = 4\n",
    "n_data = 2\n",
    "x_exact, x_train, y_train, param = create_dataset(ode_dim,n_data,10)\n",
    "\n",
    "dataset = []\n",
    "for i in range(0,len(x_train)):\n",
    "    dataset.append(to_pyg_data(x_train[i],y_train[i],ode_dim,n_data))\n",
    "\n",
    "print(dataset)\n",
    "\n",
    "loader = DataLoader(dataset)"
   ]
  }
 ],
 "metadata": {
  "kernelspec": {
   "display_name": "Python 3",
   "language": "python",
   "name": "python3"
  },
  "language_info": {
   "codemirror_mode": {
    "name": "ipython",
    "version": 3
   },
   "file_extension": ".py",
   "mimetype": "text/x-python",
   "name": "python",
   "nbconvert_exporter": "python",
   "pygments_lexer": "ipython3",
   "version": "3.10.4"
  }
 },
 "nbformat": 4,
 "nbformat_minor": 2
}
