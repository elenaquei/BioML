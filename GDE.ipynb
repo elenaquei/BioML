{
 "cells": [
  {
   "cell_type": "markdown",
   "metadata": {},
   "source": [
    "# Code for Graph Differential Equations\n",
    "\n",
    "This notebook contains code for a implementation of the GDE paper based on pytorch geometric and torchdiffeq."
   ]
  },
  {
   "cell_type": "code",
   "execution_count": 1,
   "metadata": {},
   "outputs": [
    {
     "name": "stderr",
     "output_type": "stream",
     "text": [
      "c:\\Users\\Lucas\\AppData\\Local\\Programs\\Python\\Python310\\lib\\site-packages\\tqdm\\auto.py:21: TqdmWarning: IProgress not found. Please update jupyter and ipywidgets. See https://ipywidgets.readthedocs.io/en/stable/user_install.html\n",
      "  from .autonotebook import tqdm as notebook_tqdm\n"
     ]
    }
   ],
   "source": [
    "import torch\n",
    "from torch_geometric.loader import DataLoader\n",
    "from data_creation import create_dataset, to_pyg_data_true\n",
    "from torch_geometric.nn import GCNConv\n",
    "from torchdiffeq import odeint"
   ]
  },
  {
   "cell_type": "markdown",
   "metadata": {},
   "source": [
    "Generate data of 1000 graphs (input,output pairs) for training the GDE on, along with 128 graphs for testing the method"
   ]
  },
  {
   "cell_type": "code",
   "execution_count": 2,
   "metadata": {},
   "outputs": [],
   "source": [
    "# run only if new data is desired\n",
    "\n",
    "# set ODE dimension and amount of data points (n_data, x(0) to x(T)) desired\n",
    "ode_dim = 3\n",
    "n_data = 10\n",
    "\n",
    "# create dataset based on specified parameters\n",
    "x_exact, x_train, y_train, param = create_dataset(ode_dim,n_data,1000)\n",
    "\n",
    "# create pytorch_geometric-compatible dataset for training\n",
    "dataset_train = []\n",
    "for i in range(0,len(x_train)):\n",
    "    p = param[i]\n",
    "    param_tensor = torch.cat((p.Win.flatten(),p.Wout.flatten(),p.bin.flatten(),p.bout.flatten(),p.gamma.flatten()))\n",
    "    dataset_train.append(to_pyg_data_true(x_train[i],y_train[i],ode_dim,n_data))\n",
    "\n",
    "loader = DataLoader(dataset_train,batch_size=32,shuffle=True)\n",
    "\n",
    "# create dataset for testing based on specified parameters\n",
    "x_text_exact, x_test, y_test, param_test = create_dataset(ode_dim,n_data,128)\n",
    "\n",
    "# create pytorch_geometric-compatible dataset for testing\n",
    "dataset = []\n",
    "for i in range(0,len(x_test)):\n",
    "    p = param_test[i]\n",
    "    param_tensor = torch.cat((p.Win.flatten(),p.Wout.flatten(),p.bin.flatten(),p.bout.flatten(),p.gamma.flatten()))\n",
    "    dataset.append(to_pyg_data_true(x_test[i],y_test[i],ode_dim,n_data))\n",
    "\n",
    "test_loader = DataLoader(dataset,batch_size=128,shuffle=True)"
   ]
  },
  {
   "cell_type": "markdown",
   "metadata": {},
   "source": [
    "We define a GCDE (Graph Convolution Differential Equation) as defined in Graph Neural Ordinary Differential Equations, Poli et al. 2021"
   ]
  },
  {
   "cell_type": "code",
   "execution_count": 3,
   "metadata": {},
   "outputs": [],
   "source": [
    "# define GCN with two layers as nODE function (rhs of ODE)\n",
    "class GCDE_F(torch.nn.Module):\n",
    "\n",
    "    def __init__(self, dim, out_dim = None, hidden_channels = 16):\n",
    "        super(GCDE_F, self).__init__()\n",
    "\n",
    "        # if out_dim is not specified, set it to dim (to have ODE mapping to same space)\n",
    "        if out_dim is None:\n",
    "            out_dim = dim\n",
    "        \n",
    "        # define two Graph Convolutional layers\n",
    "        self.gcn1 = GCNConv(dim, hidden_channels)\n",
    "        self.gcn2 = GCNConv(hidden_channels, out_dim)\n",
    "\n",
    "    def forward(self, t, x, edge_index):\n",
    "\n",
    "        # define forward pass through GCN layers\n",
    "        x = self.gcn1(x, edge_index=edge_index)\n",
    "        x = torch.nn.functional.leaky_relu(x)\n",
    "        return self.gcn2(x,edge_index=edge_index)\n",
    "\n",
    "# define GCDE model based using GCDE_F as right-hand side of ODE along with linear input and output projections\n",
    "class GCDE(torch.nn.Module):\n",
    "\n",
    "    def __init__(self, input_dim, output_dim, ode_dim = None, integration_time = torch.tensor([0,1], dtype=torch.float)):\n",
    "        super(GCDE, self).__init__()\n",
    "\n",
    "        if ode_dim is None:\n",
    "            ode_dim = input_dim\n",
    "\n",
    "        # set integration time for ODE solver\n",
    "        self.integration_time = integration_time\n",
    "\n",
    "        # define Linear layer to process input, then go through ODE layer and finally go through another linear layer to get to correct output dimension\n",
    "        self.lin1 = torch.nn.Linear(input_dim, ode_dim)\n",
    "        self.dropout = torch.nn.Dropout(p=0.3)\n",
    "        self.ode_f = GCDE_F(ode_dim)\n",
    "        self.lin2 = torch.nn.Linear(ode_dim, output_dim)\n",
    "\n",
    "    def forward(self, data):\n",
    "        x, edge_index = data.x, data.edge_index\n",
    "\n",
    "        # pass through first linear layer\n",
    "        x = self.lin1(x)\n",
    "        x = torch.nn.functional.leaky_relu(x)\n",
    "\n",
    "        x = self.dropout(x)\n",
    "\n",
    "        # define the ODE function based on edge_index\n",
    "        def ode_func(t, x):\n",
    "            return self.ode_f(t, x, edge_index)\n",
    "\n",
    "        # pass through ODE integration\n",
    "        x = odeint(ode_func, x, self.integration_time)[-1]\n",
    "\n",
    "        # pass through second linear layer and return\n",
    "        return self.lin2(x)\n",
    "        "
   ]
  },
  {
   "cell_type": "code",
   "execution_count": 4,
   "metadata": {},
   "outputs": [
    {
     "name": "stderr",
     "output_type": "stream",
     "text": [
      "c:\\Users\\Lucas\\AppData\\Local\\Programs\\Python\\Python310\\lib\\site-packages\\torchdiffeq\\_impl\\misc.py:296: UserWarning: t is not on the same device as y0. Coercing to y0.device.\n",
      "  warnings.warn(\"t is not on the same device as y0. Coercing to y0.device.\")\n"
     ]
    },
    {
     "ename": "KeyboardInterrupt",
     "evalue": "",
     "output_type": "error",
     "traceback": [
      "\u001b[1;31m---------------------------------------------------------------------------\u001b[0m",
      "\u001b[1;31mKeyboardInterrupt\u001b[0m                         Traceback (most recent call last)",
      "Cell \u001b[1;32mIn[4], line 29\u001b[0m\n\u001b[0;32m     25\u001b[0m batch_size \u001b[38;5;241m=\u001b[39m data\u001b[38;5;241m.\u001b[39mbatch\u001b[38;5;241m.\u001b[39mmax()\u001b[38;5;241m.\u001b[39mitem()\u001b[38;5;241m+\u001b[39m\u001b[38;5;241m1\u001b[39m\n\u001b[0;32m     27\u001b[0m optimizer\u001b[38;5;241m.\u001b[39mzero_grad()\n\u001b[1;32m---> 29\u001b[0m out \u001b[38;5;241m=\u001b[39m \u001b[43mmodel\u001b[49m\u001b[43m(\u001b[49m\u001b[43mdata\u001b[49m\u001b[43m)\u001b[49m\n\u001b[0;32m     31\u001b[0m adj \u001b[38;5;241m=\u001b[39m out\u001b[38;5;241m.\u001b[39mflatten()\n\u001b[0;32m     33\u001b[0m binary_vec \u001b[38;5;241m=\u001b[39m torch\u001b[38;5;241m.\u001b[39mzeros(\u001b[38;5;28mlen\u001b[39m(data\u001b[38;5;241m.\u001b[39my))\u001b[38;5;241m.\u001b[39mto(device)\n",
      "File \u001b[1;32mc:\\Users\\Lucas\\AppData\\Local\\Programs\\Python\\Python310\\lib\\site-packages\\torch\\nn\\modules\\module.py:1190\u001b[0m, in \u001b[0;36mModule._call_impl\u001b[1;34m(self, *input, **kwargs)\u001b[0m\n\u001b[0;32m   1186\u001b[0m \u001b[38;5;66;03m# If we don't have any hooks, we want to skip the rest of the logic in\u001b[39;00m\n\u001b[0;32m   1187\u001b[0m \u001b[38;5;66;03m# this function, and just call forward.\u001b[39;00m\n\u001b[0;32m   1188\u001b[0m \u001b[38;5;28;01mif\u001b[39;00m \u001b[38;5;129;01mnot\u001b[39;00m (\u001b[38;5;28mself\u001b[39m\u001b[38;5;241m.\u001b[39m_backward_hooks \u001b[38;5;129;01mor\u001b[39;00m \u001b[38;5;28mself\u001b[39m\u001b[38;5;241m.\u001b[39m_forward_hooks \u001b[38;5;129;01mor\u001b[39;00m \u001b[38;5;28mself\u001b[39m\u001b[38;5;241m.\u001b[39m_forward_pre_hooks \u001b[38;5;129;01mor\u001b[39;00m _global_backward_hooks\n\u001b[0;32m   1189\u001b[0m         \u001b[38;5;129;01mor\u001b[39;00m _global_forward_hooks \u001b[38;5;129;01mor\u001b[39;00m _global_forward_pre_hooks):\n\u001b[1;32m-> 1190\u001b[0m     \u001b[38;5;28;01mreturn\u001b[39;00m forward_call(\u001b[38;5;241m*\u001b[39m\u001b[38;5;28minput\u001b[39m, \u001b[38;5;241m*\u001b[39m\u001b[38;5;241m*\u001b[39mkwargs)\n\u001b[0;32m   1191\u001b[0m \u001b[38;5;66;03m# Do not call functions when jit is used\u001b[39;00m\n\u001b[0;32m   1192\u001b[0m full_backward_hooks, non_full_backward_hooks \u001b[38;5;241m=\u001b[39m [], []\n",
      "Cell \u001b[1;32mIn[3], line 53\u001b[0m, in \u001b[0;36mGCDE.forward\u001b[1;34m(self, data)\u001b[0m\n\u001b[0;32m     50\u001b[0m     \u001b[38;5;28;01mreturn\u001b[39;00m \u001b[38;5;28mself\u001b[39m\u001b[38;5;241m.\u001b[39mode_f(t, x, edge_index)\n\u001b[0;32m     52\u001b[0m \u001b[38;5;66;03m# pass through ODE integration\u001b[39;00m\n\u001b[1;32m---> 53\u001b[0m x \u001b[38;5;241m=\u001b[39m \u001b[43modeint\u001b[49m\u001b[43m(\u001b[49m\u001b[43mode_func\u001b[49m\u001b[43m,\u001b[49m\u001b[43m \u001b[49m\u001b[43mx\u001b[49m\u001b[43m,\u001b[49m\u001b[43m \u001b[49m\u001b[38;5;28;43mself\u001b[39;49m\u001b[38;5;241;43m.\u001b[39;49m\u001b[43mintegration_time\u001b[49m\u001b[43m)\u001b[49m[\u001b[38;5;241m-\u001b[39m\u001b[38;5;241m1\u001b[39m]\n\u001b[0;32m     55\u001b[0m \u001b[38;5;66;03m# pass through second linear layer and return\u001b[39;00m\n\u001b[0;32m     56\u001b[0m \u001b[38;5;28;01mreturn\u001b[39;00m \u001b[38;5;28mself\u001b[39m\u001b[38;5;241m.\u001b[39mlin2(x)\n",
      "File \u001b[1;32mc:\\Users\\Lucas\\AppData\\Local\\Programs\\Python\\Python310\\lib\\site-packages\\torchdiffeq\\_impl\\odeint.py:77\u001b[0m, in \u001b[0;36modeint\u001b[1;34m(func, y0, t, rtol, atol, method, options, event_fn)\u001b[0m\n\u001b[0;32m     74\u001b[0m solver \u001b[38;5;241m=\u001b[39m SOLVERS[method](func\u001b[38;5;241m=\u001b[39mfunc, y0\u001b[38;5;241m=\u001b[39my0, rtol\u001b[38;5;241m=\u001b[39mrtol, atol\u001b[38;5;241m=\u001b[39matol, \u001b[38;5;241m*\u001b[39m\u001b[38;5;241m*\u001b[39moptions)\n\u001b[0;32m     76\u001b[0m \u001b[38;5;28;01mif\u001b[39;00m event_fn \u001b[38;5;129;01mis\u001b[39;00m \u001b[38;5;28;01mNone\u001b[39;00m:\n\u001b[1;32m---> 77\u001b[0m     solution \u001b[38;5;241m=\u001b[39m \u001b[43msolver\u001b[49m\u001b[38;5;241;43m.\u001b[39;49m\u001b[43mintegrate\u001b[49m\u001b[43m(\u001b[49m\u001b[43mt\u001b[49m\u001b[43m)\u001b[49m\n\u001b[0;32m     78\u001b[0m \u001b[38;5;28;01melse\u001b[39;00m:\n\u001b[0;32m     79\u001b[0m     event_t, solution \u001b[38;5;241m=\u001b[39m solver\u001b[38;5;241m.\u001b[39mintegrate_until_event(t[\u001b[38;5;241m0\u001b[39m], event_fn)\n",
      "File \u001b[1;32mc:\\Users\\Lucas\\AppData\\Local\\Programs\\Python\\Python310\\lib\\site-packages\\torchdiffeq\\_impl\\solvers.py:30\u001b[0m, in \u001b[0;36mAdaptiveStepsizeODESolver.integrate\u001b[1;34m(self, t)\u001b[0m\n\u001b[0;32m     28\u001b[0m \u001b[38;5;28mself\u001b[39m\u001b[38;5;241m.\u001b[39m_before_integrate(t)\n\u001b[0;32m     29\u001b[0m \u001b[38;5;28;01mfor\u001b[39;00m i \u001b[38;5;129;01min\u001b[39;00m \u001b[38;5;28mrange\u001b[39m(\u001b[38;5;241m1\u001b[39m, \u001b[38;5;28mlen\u001b[39m(t)):\n\u001b[1;32m---> 30\u001b[0m     solution[i] \u001b[38;5;241m=\u001b[39m \u001b[38;5;28;43mself\u001b[39;49m\u001b[38;5;241;43m.\u001b[39;49m\u001b[43m_advance\u001b[49m\u001b[43m(\u001b[49m\u001b[43mt\u001b[49m\u001b[43m[\u001b[49m\u001b[43mi\u001b[49m\u001b[43m]\u001b[49m\u001b[43m)\u001b[49m\n\u001b[0;32m     31\u001b[0m \u001b[38;5;28;01mreturn\u001b[39;00m solution\n",
      "File \u001b[1;32mc:\\Users\\Lucas\\AppData\\Local\\Programs\\Python\\Python310\\lib\\site-packages\\torchdiffeq\\_impl\\rk_common.py:194\u001b[0m, in \u001b[0;36mRKAdaptiveStepsizeODESolver._advance\u001b[1;34m(self, next_t)\u001b[0m\n\u001b[0;32m    192\u001b[0m \u001b[38;5;28;01mwhile\u001b[39;00m next_t \u001b[38;5;241m>\u001b[39m \u001b[38;5;28mself\u001b[39m\u001b[38;5;241m.\u001b[39mrk_state\u001b[38;5;241m.\u001b[39mt1:\n\u001b[0;32m    193\u001b[0m     \u001b[38;5;28;01massert\u001b[39;00m n_steps \u001b[38;5;241m<\u001b[39m \u001b[38;5;28mself\u001b[39m\u001b[38;5;241m.\u001b[39mmax_num_steps, \u001b[38;5;124m'\u001b[39m\u001b[38;5;124mmax_num_steps exceeded (\u001b[39m\u001b[38;5;132;01m{}\u001b[39;00m\u001b[38;5;124m>=\u001b[39m\u001b[38;5;132;01m{}\u001b[39;00m\u001b[38;5;124m)\u001b[39m\u001b[38;5;124m'\u001b[39m\u001b[38;5;241m.\u001b[39mformat(n_steps, \u001b[38;5;28mself\u001b[39m\u001b[38;5;241m.\u001b[39mmax_num_steps)\n\u001b[1;32m--> 194\u001b[0m     \u001b[38;5;28mself\u001b[39m\u001b[38;5;241m.\u001b[39mrk_state \u001b[38;5;241m=\u001b[39m \u001b[38;5;28;43mself\u001b[39;49m\u001b[38;5;241;43m.\u001b[39;49m\u001b[43m_adaptive_step\u001b[49m\u001b[43m(\u001b[49m\u001b[38;5;28;43mself\u001b[39;49m\u001b[38;5;241;43m.\u001b[39;49m\u001b[43mrk_state\u001b[49m\u001b[43m)\u001b[49m\n\u001b[0;32m    195\u001b[0m     n_steps \u001b[38;5;241m+\u001b[39m\u001b[38;5;241m=\u001b[39m \u001b[38;5;241m1\u001b[39m\n\u001b[0;32m    196\u001b[0m \u001b[38;5;28;01mreturn\u001b[39;00m _interp_evaluate(\u001b[38;5;28mself\u001b[39m\u001b[38;5;241m.\u001b[39mrk_state\u001b[38;5;241m.\u001b[39minterp_coeff, \u001b[38;5;28mself\u001b[39m\u001b[38;5;241m.\u001b[39mrk_state\u001b[38;5;241m.\u001b[39mt0, \u001b[38;5;28mself\u001b[39m\u001b[38;5;241m.\u001b[39mrk_state\u001b[38;5;241m.\u001b[39mt1, next_t)\n",
      "File \u001b[1;32mc:\\Users\\Lucas\\AppData\\Local\\Programs\\Python\\Python310\\lib\\site-packages\\torchdiffeq\\_impl\\rk_common.py:255\u001b[0m, in \u001b[0;36mRKAdaptiveStepsizeODESolver._adaptive_step\u001b[1;34m(self, rk_state)\u001b[0m\n\u001b[0;32m    250\u001b[0m         dt \u001b[38;5;241m=\u001b[39m t1 \u001b[38;5;241m-\u001b[39m t0\n\u001b[0;32m    252\u001b[0m \u001b[38;5;66;03m# Must be arranged as doing all the step_t handling, then all the jump_t handling, in case we\u001b[39;00m\n\u001b[0;32m    253\u001b[0m \u001b[38;5;66;03m# trigger both. (i.e. interleaving them would be wrong.)\u001b[39;00m\n\u001b[1;32m--> 255\u001b[0m y1, f1, y1_error, k \u001b[38;5;241m=\u001b[39m \u001b[43m_runge_kutta_step\u001b[49m\u001b[43m(\u001b[49m\u001b[38;5;28;43mself\u001b[39;49m\u001b[38;5;241;43m.\u001b[39;49m\u001b[43mfunc\u001b[49m\u001b[43m,\u001b[49m\u001b[43m \u001b[49m\u001b[43my0\u001b[49m\u001b[43m,\u001b[49m\u001b[43m \u001b[49m\u001b[43mf0\u001b[49m\u001b[43m,\u001b[49m\u001b[43m \u001b[49m\u001b[43mt0\u001b[49m\u001b[43m,\u001b[49m\u001b[43m \u001b[49m\u001b[43mdt\u001b[49m\u001b[43m,\u001b[49m\u001b[43m \u001b[49m\u001b[43mt1\u001b[49m\u001b[43m,\u001b[49m\u001b[43m \u001b[49m\u001b[43mtableau\u001b[49m\u001b[38;5;241;43m=\u001b[39;49m\u001b[38;5;28;43mself\u001b[39;49m\u001b[38;5;241;43m.\u001b[39;49m\u001b[43mtableau\u001b[49m\u001b[43m)\u001b[49m\n\u001b[0;32m    256\u001b[0m \u001b[38;5;66;03m# dtypes:\u001b[39;00m\n\u001b[0;32m    257\u001b[0m \u001b[38;5;66;03m# y1.dtype == self.y0.dtype\u001b[39;00m\n\u001b[0;32m    258\u001b[0m \u001b[38;5;66;03m# f1.dtype == self.y0.dtype\u001b[39;00m\n\u001b[1;32m   (...)\u001b[0m\n\u001b[0;32m    263\u001b[0m \u001b[38;5;66;03m#                     Error Ratio                      #\u001b[39;00m\n\u001b[0;32m    264\u001b[0m \u001b[38;5;66;03m########################################################\u001b[39;00m\n\u001b[0;32m    265\u001b[0m error_ratio \u001b[38;5;241m=\u001b[39m _compute_error_ratio(y1_error, \u001b[38;5;28mself\u001b[39m\u001b[38;5;241m.\u001b[39mrtol, \u001b[38;5;28mself\u001b[39m\u001b[38;5;241m.\u001b[39matol, y0, y1, \u001b[38;5;28mself\u001b[39m\u001b[38;5;241m.\u001b[39mnorm)\n",
      "File \u001b[1;32mc:\\Users\\Lucas\\AppData\\Local\\Programs\\Python\\Python310\\lib\\site-packages\\torchdiffeq\\_impl\\rk_common.py:79\u001b[0m, in \u001b[0;36m_runge_kutta_step\u001b[1;34m(func, y0, f0, t0, dt, t1, tableau)\u001b[0m\n\u001b[0;32m     76\u001b[0m     f \u001b[38;5;241m=\u001b[39m func(ti, yi, perturb\u001b[38;5;241m=\u001b[39mperturb)\n\u001b[0;32m     77\u001b[0m     k \u001b[38;5;241m=\u001b[39m _UncheckedAssign\u001b[38;5;241m.\u001b[39mapply(k, f, (\u001b[38;5;241m.\u001b[39m\u001b[38;5;241m.\u001b[39m\u001b[38;5;241m.\u001b[39m, i \u001b[38;5;241m+\u001b[39m \u001b[38;5;241m1\u001b[39m))\n\u001b[1;32m---> 79\u001b[0m \u001b[38;5;28;01mif\u001b[39;00m \u001b[38;5;129;01mnot\u001b[39;00m (tableau\u001b[38;5;241m.\u001b[39mc_sol[\u001b[38;5;241m-\u001b[39m\u001b[38;5;241m1\u001b[39m] \u001b[38;5;241m==\u001b[39m \u001b[38;5;241m0\u001b[39m \u001b[38;5;129;01mand\u001b[39;00m (tableau\u001b[38;5;241m.\u001b[39mc_sol[:\u001b[38;5;241m-\u001b[39m\u001b[38;5;241m1\u001b[39m] \u001b[38;5;241m==\u001b[39m tableau\u001b[38;5;241m.\u001b[39mbeta[\u001b[38;5;241m-\u001b[39m\u001b[38;5;241m1\u001b[39m])\u001b[38;5;241m.\u001b[39mall()):\n\u001b[0;32m     80\u001b[0m     \u001b[38;5;66;03m# This property (true for Dormand-Prince) lets us save a few FLOPs.\u001b[39;00m\n\u001b[0;32m     81\u001b[0m     yi \u001b[38;5;241m=\u001b[39m y0 \u001b[38;5;241m+\u001b[39m torch\u001b[38;5;241m.\u001b[39msum(k \u001b[38;5;241m*\u001b[39m (dt \u001b[38;5;241m*\u001b[39m tableau\u001b[38;5;241m.\u001b[39mc_sol), dim\u001b[38;5;241m=\u001b[39m\u001b[38;5;241m-\u001b[39m\u001b[38;5;241m1\u001b[39m)\u001b[38;5;241m.\u001b[39mview_as(f0)\n\u001b[0;32m     83\u001b[0m y1 \u001b[38;5;241m=\u001b[39m yi\n",
      "\u001b[1;31mKeyboardInterrupt\u001b[0m: "
     ]
    }
   ],
   "source": [
    "# Ensure input_dim and output_dim are set correctly\n",
    "input_dim = 2*n_data\n",
    "\n",
    "# output ode_dim features per node, indicating different connections in adjacency matrix\n",
    "output_dim = ode_dim\n",
    "\n",
    "model = GCDE(input_dim, output_dim, 5)\n",
    "device = torch.device('cuda' if torch.cuda.is_available() else 'cpu')\n",
    "model = model.to(device)\n",
    "\n",
    "optimizer = torch.optim.Adam(model.parameters(), lr = 0.001)\n",
    "\n",
    "criterion = torch.nn.MSELoss()\n",
    "\n",
    "train_loss = []\n",
    "\n",
    "for epoch in range(100):\n",
    "    model.train()\n",
    "\n",
    "    tr_loss = 0\n",
    "    full_loss = 0\n",
    "    for data in loader:\n",
    "        data = data.to(device)\n",
    "\n",
    "        batch_size = data.batch.max().item()+1\n",
    "\n",
    "        optimizer.zero_grad()\n",
    "\n",
    "        out = model(data)\n",
    "\n",
    "        adj = out.flatten()\n",
    "\n",
    "        binary_vec = torch.zeros(len(data.y)).to(device)\n",
    "        for elem in range(len(data.y)):\n",
    "            if data.y[elem] > 1e-4:\n",
    "                binary_vec[elem] = 1\n",
    "            if data.y[elem] < -1e4:\n",
    "                binary_vec[elem] = -1\n",
    "\n",
    "        loss = criterion(adj,binary_vec)\n",
    "\n",
    "        train_loss.append(loss)\n",
    "        full_loss += loss\n",
    "\n",
    "        loss.backward()\n",
    "        optimizer.step()\n",
    "        \n",
    "        tr_loss += loss\n",
    "        \n",
    "    #train_loss.append(full_loss)\n",
    "    print(full_loss.item())\n",
    "\n",
    "for data in dataset_train:\n",
    "    z = model.encode(data.to(device), data.edge_index)\n",
    "\n",
    "    recon = model.decode(z,data.edge_index)\n",
    "\n",
    "    print(recon)"
   ]
  },
  {
   "cell_type": "code",
   "execution_count": 143,
   "metadata": {},
   "outputs": [
    {
     "data": {
      "image/png": "[encoded data removed]",
      "text/plain": [
       "<Figure size 640x480 with 1 Axes>"
      ]
     },
     "metadata": {},
     "output_type": "display_data"
    }
   ],
   "source": [
    "import matplotlib.pyplot as plt\n",
    "\n",
    "tr_l = [train_loss[i].to('cpu').detach().numpy() for i in range(0,len(train_loss))]\n",
    "plt.plot(range(0,len(tr_l)),tr_l)\n",
    "plt.show()"
   ]
  },
  {
   "cell_type": "code",
   "execution_count": 146,
   "metadata": {},
   "outputs": [
    {
     "name": "stdout",
     "output_type": "stream",
     "text": [
      "0.2511111111111111\n"
     ]
    }
   ],
   "source": [
    "def get_adjacency(W):\n",
    "        values_log_W = torch.sort(torch.log(torch.abs(W.flatten())))[0]\n",
    "        treshold = values_log_W[torch.sort(values_log_W[1:] - values_log_W[:-1])[1][-1] + 1]\n",
    "        W_bool_activation = (W >= torch.exp(treshold)).double()\n",
    "        W_bool_repr = (W <= -torch.exp(treshold)).double()\n",
    "        A = W_bool_activation-W_bool_repr\n",
    "        return A\n",
    "\n",
    "x_val_exact, x_val, y_val, param_val = create_dataset(ode_dim,n_data,100)\n",
    "\n",
    "val_dataset = []\n",
    "param_list = []\n",
    "\n",
    "for i in range(0,len(x_val)):\n",
    "    p = param_val[i]\n",
    "    param_vec = torch.cat((p.Win.flatten(), p.Wout.flatten(), p.bin, p.bout, p.gamma)).numpy()\n",
    "    param_list.append(param_vec)\n",
    "    val_dataset.append(to_pyg_data_true(x_val[i],y_val[i],ode_dim,n_data))\n",
    "\n",
    "val_loader = DataLoader(val_dataset,batch_size=100)\n",
    "\n",
    "correct = 0\n",
    "init_correct = 0\n",
    "total = 0\n",
    "elem_wise = 0\n",
    "elem_wise_init = 0\n",
    "elems_total = 0\n",
    "\n",
    "changed = 0\n",
    "fixed = 0\n",
    "destroyed = 0\n",
    "\n",
    "device = torch.device('cuda' if torch.cuda.is_available() else 'cpu')\n",
    "k = 0\n",
    "for batch in val_loader:\n",
    "    batch = batch.to(device)\n",
    "    out = model(batch)\n",
    "\n",
    "    Ahat = out.flatten()\n",
    "\n",
    "    # Ahat = get_adjacency(model(batch)).t()[0]\n",
    "    A = get_adjacency(batch.y)\n",
    "    Ahat = get_adjacency(Ahat)\n",
    "\n",
    "    for i in range(0,len(A)):\n",
    "\n",
    "        if abs(Ahat[i]-A[i]) < 0.001:\n",
    "             elem_wise += 1   \n",
    "            \n",
    "        elems_total += 1\n",
    "\n",
    "print(elem_wise/elems_total)"
   ]
  }
 ],
 "metadata": {
  "kernelspec": {
   "display_name": "Python 3",
   "language": "python",
   "name": "python3"
  },
  "language_info": {
   "codemirror_mode": {
    "name": "ipython",
    "version": 3
   },
   "file_extension": ".py",
   "mimetype": "text/x-python",
   "name": "python",
   "nbconvert_exporter": "python",
   "pygments_lexer": "ipython3",
   "version": "3.10.4"
  }
 },
 "nbformat": 4,
 "nbformat_minor": 2
}
